{
  "cells": [
    {
      "cell_type": "markdown",
      "source": [
        "# IML Assignment 1"
      ],
      "metadata": {
        "collapsed": false,
        "id": "mxdt0wga2deQ"
      }
    },
    {
      "cell_type": "markdown",
      "source": [
        "## Name: Ilona Dziurava\n",
        "## mail: i.dziurava@innopolis.university"
      ],
      "metadata": {
        "collapsed": false,
        "id": "qzt-TwQ82deX"
      }
    },
    {
      "cell_type": "markdown",
      "source": [
        "## Task 1"
      ],
      "metadata": {
        "collapsed": false,
        "id": "-UFAD0gi2deY"
      }
    },
    {
      "cell_type": "markdown",
      "source": [
        "### Linear Regression\n",
        "#### Data reading & plotting"
      ],
      "metadata": {
        "collapsed": false,
        "id": "oePAEkpR2deZ"
      }
    },
    {
      "cell_type": "code",
      "execution_count": null,
      "outputs": [
        {
          "output_type": "execute_result",
          "data": {
            "text/plain": [
              "     X_train   y_train    X_test    y_test\n",
              "0   0.136018 -0.129555  0.000000  0.000000\n",
              "1   0.207231  0.894330  0.172414  0.270000\n",
              "2   0.246135 -0.791176  0.344828  0.535057\n",
              "3   0.298175  0.180217  0.517241  0.790317\n",
              "4   0.635941  3.722585  0.689655  1.031108\n",
              "5   0.944209  0.693082  0.862069  1.253020\n",
              "6   0.961715 -0.196149  1.034483  1.451991\n",
              "7   1.089511  1.960637  1.206897  1.624378\n",
              "8   1.204234  2.063510  1.379310  1.767024\n",
              "9   2.196011  1.404661  1.551724  1.877318\n",
              "10  2.537902  3.682659  1.724138  1.953241\n",
              "11  2.779263 -0.676277  1.896552  1.993402\n",
              "12  3.057217  1.696440  2.068966  1.997067\n",
              "13  3.233837  0.417121  2.241379  1.964167\n",
              "14  3.330346  1.448251  2.413793  1.895306\n",
              "15  3.388978  0.723045  2.586207  1.791745\n",
              "16  3.406240  1.152401  2.758621  1.655378\n",
              "17  3.521434  0.119024  2.931034  1.488703\n",
              "18  3.640800  1.027081  3.103448  1.294773\n",
              "19  3.713267  0.457927  3.275862  1.077136\n",
              "20  3.837383 -0.234610  3.448276  0.839778\n",
              "21  3.847650  1.313046  3.620690  0.587045\n",
              "22  3.854180  0.149819  3.793103  0.323564\n",
              "23  3.879724  0.384849  3.965517  0.054159\n",
              "24  3.970072  0.790074  4.137931 -0.216238\n",
              "25  4.004143 -0.822593  4.310345 -0.482676\n",
              "26  4.196653 -1.241883  4.482759 -0.740276\n",
              "27  4.741840 -0.721734  4.655172 -0.984323\n",
              "28  4.789112 -2.311561  4.827586 -1.210348\n",
              "29  4.905673 -2.567289  5.000000 -1.414214"
            ],
            "text/html": [
              "\n",
              "  <div id=\"df-0c6502ed-8ee6-4e7e-bce9-7b82644c1217\">\n",
              "    <div class=\"colab-df-container\">\n",
              "      <div>\n",
              "<style scoped>\n",
              "    .dataframe tbody tr th:only-of-type {\n",
              "        vertical-align: middle;\n",
              "    }\n",
              "\n",
              "    .dataframe tbody tr th {\n",
              "        vertical-align: top;\n",
              "    }\n",
              "\n",
              "    .dataframe thead th {\n",
              "        text-align: right;\n",
              "    }\n",
              "</style>\n",
              "<table border=\"1\" class=\"dataframe\">\n",
              "  <thead>\n",
              "    <tr style=\"text-align: right;\">\n",
              "      <th></th>\n",
              "      <th>X_train</th>\n",
              "      <th>y_train</th>\n",
              "      <th>X_test</th>\n",
              "      <th>y_test</th>\n",
              "    </tr>\n",
              "  </thead>\n",
              "  <tbody>\n",
              "    <tr>\n",
              "      <th>0</th>\n",
              "      <td>0.136018</td>\n",
              "      <td>-0.129555</td>\n",
              "      <td>0.000000</td>\n",
              "      <td>0.000000</td>\n",
              "    </tr>\n",
              "    <tr>\n",
              "      <th>1</th>\n",
              "      <td>0.207231</td>\n",
              "      <td>0.894330</td>\n",
              "      <td>0.172414</td>\n",
              "      <td>0.270000</td>\n",
              "    </tr>\n",
              "    <tr>\n",
              "      <th>2</th>\n",
              "      <td>0.246135</td>\n",
              "      <td>-0.791176</td>\n",
              "      <td>0.344828</td>\n",
              "      <td>0.535057</td>\n",
              "    </tr>\n",
              "    <tr>\n",
              "      <th>3</th>\n",
              "      <td>0.298175</td>\n",
              "      <td>0.180217</td>\n",
              "      <td>0.517241</td>\n",
              "      <td>0.790317</td>\n",
              "    </tr>\n",
              "    <tr>\n",
              "      <th>4</th>\n",
              "      <td>0.635941</td>\n",
              "      <td>3.722585</td>\n",
              "      <td>0.689655</td>\n",
              "      <td>1.031108</td>\n",
              "    </tr>\n",
              "    <tr>\n",
              "      <th>5</th>\n",
              "      <td>0.944209</td>\n",
              "      <td>0.693082</td>\n",
              "      <td>0.862069</td>\n",
              "      <td>1.253020</td>\n",
              "    </tr>\n",
              "    <tr>\n",
              "      <th>6</th>\n",
              "      <td>0.961715</td>\n",
              "      <td>-0.196149</td>\n",
              "      <td>1.034483</td>\n",
              "      <td>1.451991</td>\n",
              "    </tr>\n",
              "    <tr>\n",
              "      <th>7</th>\n",
              "      <td>1.089511</td>\n",
              "      <td>1.960637</td>\n",
              "      <td>1.206897</td>\n",
              "      <td>1.624378</td>\n",
              "    </tr>\n",
              "    <tr>\n",
              "      <th>8</th>\n",
              "      <td>1.204234</td>\n",
              "      <td>2.063510</td>\n",
              "      <td>1.379310</td>\n",
              "      <td>1.767024</td>\n",
              "    </tr>\n",
              "    <tr>\n",
              "      <th>9</th>\n",
              "      <td>2.196011</td>\n",
              "      <td>1.404661</td>\n",
              "      <td>1.551724</td>\n",
              "      <td>1.877318</td>\n",
              "    </tr>\n",
              "    <tr>\n",
              "      <th>10</th>\n",
              "      <td>2.537902</td>\n",
              "      <td>3.682659</td>\n",
              "      <td>1.724138</td>\n",
              "      <td>1.953241</td>\n",
              "    </tr>\n",
              "    <tr>\n",
              "      <th>11</th>\n",
              "      <td>2.779263</td>\n",
              "      <td>-0.676277</td>\n",
              "      <td>1.896552</td>\n",
              "      <td>1.993402</td>\n",
              "    </tr>\n",
              "    <tr>\n",
              "      <th>12</th>\n",
              "      <td>3.057217</td>\n",
              "      <td>1.696440</td>\n",
              "      <td>2.068966</td>\n",
              "      <td>1.997067</td>\n",
              "    </tr>\n",
              "    <tr>\n",
              "      <th>13</th>\n",
              "      <td>3.233837</td>\n",
              "      <td>0.417121</td>\n",
              "      <td>2.241379</td>\n",
              "      <td>1.964167</td>\n",
              "    </tr>\n",
              "    <tr>\n",
              "      <th>14</th>\n",
              "      <td>3.330346</td>\n",
              "      <td>1.448251</td>\n",
              "      <td>2.413793</td>\n",
              "      <td>1.895306</td>\n",
              "    </tr>\n",
              "    <tr>\n",
              "      <th>15</th>\n",
              "      <td>3.388978</td>\n",
              "      <td>0.723045</td>\n",
              "      <td>2.586207</td>\n",
              "      <td>1.791745</td>\n",
              "    </tr>\n",
              "    <tr>\n",
              "      <th>16</th>\n",
              "      <td>3.406240</td>\n",
              "      <td>1.152401</td>\n",
              "      <td>2.758621</td>\n",
              "      <td>1.655378</td>\n",
              "    </tr>\n",
              "    <tr>\n",
              "      <th>17</th>\n",
              "      <td>3.521434</td>\n",
              "      <td>0.119024</td>\n",
              "      <td>2.931034</td>\n",
              "      <td>1.488703</td>\n",
              "    </tr>\n",
              "    <tr>\n",
              "      <th>18</th>\n",
              "      <td>3.640800</td>\n",
              "      <td>1.027081</td>\n",
              "      <td>3.103448</td>\n",
              "      <td>1.294773</td>\n",
              "    </tr>\n",
              "    <tr>\n",
              "      <th>19</th>\n",
              "      <td>3.713267</td>\n",
              "      <td>0.457927</td>\n",
              "      <td>3.275862</td>\n",
              "      <td>1.077136</td>\n",
              "    </tr>\n",
              "    <tr>\n",
              "      <th>20</th>\n",
              "      <td>3.837383</td>\n",
              "      <td>-0.234610</td>\n",
              "      <td>3.448276</td>\n",
              "      <td>0.839778</td>\n",
              "    </tr>\n",
              "    <tr>\n",
              "      <th>21</th>\n",
              "      <td>3.847650</td>\n",
              "      <td>1.313046</td>\n",
              "      <td>3.620690</td>\n",
              "      <td>0.587045</td>\n",
              "    </tr>\n",
              "    <tr>\n",
              "      <th>22</th>\n",
              "      <td>3.854180</td>\n",
              "      <td>0.149819</td>\n",
              "      <td>3.793103</td>\n",
              "      <td>0.323564</td>\n",
              "    </tr>\n",
              "    <tr>\n",
              "      <th>23</th>\n",
              "      <td>3.879724</td>\n",
              "      <td>0.384849</td>\n",
              "      <td>3.965517</td>\n",
              "      <td>0.054159</td>\n",
              "    </tr>\n",
              "    <tr>\n",
              "      <th>24</th>\n",
              "      <td>3.970072</td>\n",
              "      <td>0.790074</td>\n",
              "      <td>4.137931</td>\n",
              "      <td>-0.216238</td>\n",
              "    </tr>\n",
              "    <tr>\n",
              "      <th>25</th>\n",
              "      <td>4.004143</td>\n",
              "      <td>-0.822593</td>\n",
              "      <td>4.310345</td>\n",
              "      <td>-0.482676</td>\n",
              "    </tr>\n",
              "    <tr>\n",
              "      <th>26</th>\n",
              "      <td>4.196653</td>\n",
              "      <td>-1.241883</td>\n",
              "      <td>4.482759</td>\n",
              "      <td>-0.740276</td>\n",
              "    </tr>\n",
              "    <tr>\n",
              "      <th>27</th>\n",
              "      <td>4.741840</td>\n",
              "      <td>-0.721734</td>\n",
              "      <td>4.655172</td>\n",
              "      <td>-0.984323</td>\n",
              "    </tr>\n",
              "    <tr>\n",
              "      <th>28</th>\n",
              "      <td>4.789112</td>\n",
              "      <td>-2.311561</td>\n",
              "      <td>4.827586</td>\n",
              "      <td>-1.210348</td>\n",
              "    </tr>\n",
              "    <tr>\n",
              "      <th>29</th>\n",
              "      <td>4.905673</td>\n",
              "      <td>-2.567289</td>\n",
              "      <td>5.000000</td>\n",
              "      <td>-1.414214</td>\n",
              "    </tr>\n",
              "  </tbody>\n",
              "</table>\n",
              "</div>\n",
              "      <button class=\"colab-df-convert\" onclick=\"convertToInteractive('df-0c6502ed-8ee6-4e7e-bce9-7b82644c1217')\"\n",
              "              title=\"Convert this dataframe to an interactive table.\"\n",
              "              style=\"display:none;\">\n",
              "        \n",
              "  <svg xmlns=\"http://www.w3.org/2000/svg\" height=\"24px\"viewBox=\"0 0 24 24\"\n",
              "       width=\"24px\">\n",
              "    <path d=\"M0 0h24v24H0V0z\" fill=\"none\"/>\n",
              "    <path d=\"M18.56 5.44l.94 2.06.94-2.06 2.06-.94-2.06-.94-.94-2.06-.94 2.06-2.06.94zm-11 1L8.5 8.5l.94-2.06 2.06-.94-2.06-.94L8.5 2.5l-.94 2.06-2.06.94zm10 10l.94 2.06.94-2.06 2.06-.94-2.06-.94-.94-2.06-.94 2.06-2.06.94z\"/><path d=\"M17.41 7.96l-1.37-1.37c-.4-.4-.92-.59-1.43-.59-.52 0-1.04.2-1.43.59L10.3 9.45l-7.72 7.72c-.78.78-.78 2.05 0 2.83L4 21.41c.39.39.9.59 1.41.59.51 0 1.02-.2 1.41-.59l7.78-7.78 2.81-2.81c.8-.78.8-2.07 0-2.86zM5.41 20L4 18.59l7.72-7.72 1.47 1.35L5.41 20z\"/>\n",
              "  </svg>\n",
              "      </button>\n",
              "      \n",
              "  <style>\n",
              "    .colab-df-container {\n",
              "      display:flex;\n",
              "      flex-wrap:wrap;\n",
              "      gap: 12px;\n",
              "    }\n",
              "\n",
              "    .colab-df-convert {\n",
              "      background-color: #E8F0FE;\n",
              "      border: none;\n",
              "      border-radius: 50%;\n",
              "      cursor: pointer;\n",
              "      display: none;\n",
              "      fill: #1967D2;\n",
              "      height: 32px;\n",
              "      padding: 0 0 0 0;\n",
              "      width: 32px;\n",
              "    }\n",
              "\n",
              "    .colab-df-convert:hover {\n",
              "      background-color: #E2EBFA;\n",
              "      box-shadow: 0px 1px 2px rgba(60, 64, 67, 0.3), 0px 1px 3px 1px rgba(60, 64, 67, 0.15);\n",
              "      fill: #174EA6;\n",
              "    }\n",
              "\n",
              "    [theme=dark] .colab-df-convert {\n",
              "      background-color: #3B4455;\n",
              "      fill: #D2E3FC;\n",
              "    }\n",
              "\n",
              "    [theme=dark] .colab-df-convert:hover {\n",
              "      background-color: #434B5C;\n",
              "      box-shadow: 0px 1px 3px 1px rgba(0, 0, 0, 0.15);\n",
              "      filter: drop-shadow(0px 1px 2px rgba(0, 0, 0, 0.3));\n",
              "      fill: #FFFFFF;\n",
              "    }\n",
              "  </style>\n",
              "\n",
              "      <script>\n",
              "        const buttonEl =\n",
              "          document.querySelector('#df-0c6502ed-8ee6-4e7e-bce9-7b82644c1217 button.colab-df-convert');\n",
              "        buttonEl.style.display =\n",
              "          google.colab.kernel.accessAllowed ? 'block' : 'none';\n",
              "\n",
              "        async function convertToInteractive(key) {\n",
              "          const element = document.querySelector('#df-0c6502ed-8ee6-4e7e-bce9-7b82644c1217');\n",
              "          const dataTable =\n",
              "            await google.colab.kernel.invokeFunction('convertToInteractive',\n",
              "                                                     [key], {});\n",
              "          if (!dataTable) return;\n",
              "\n",
              "          const docLinkHtml = 'Like what you see? Visit the ' +\n",
              "            '<a target=\"_blank\" href=https://colab.research.google.com/notebooks/data_table.ipynb>data table notebook</a>'\n",
              "            + ' to learn more about interactive tables.';\n",
              "          element.innerHTML = '';\n",
              "          dataTable['output_type'] = 'display_data';\n",
              "          await google.colab.output.renderOutput(dataTable, element);\n",
              "          const docLink = document.createElement('div');\n",
              "          docLink.innerHTML = docLinkHtml;\n",
              "          element.appendChild(docLink);\n",
              "        }\n",
              "      </script>\n",
              "    </div>\n",
              "  </div>\n",
              "  "
            ]
          },
          "metadata": {},
          "execution_count": 1
        }
      ],
      "source": [
        "import pandas as pd\n",
        "dataset = pd.read_csv('task1_data.csv')\n",
        "dataset\n"
      ],
      "metadata": {
        "colab": {
          "base_uri": "https://localhost:8080/",
          "height": 990
        },
        "id": "tXHMrNaP2deZ",
        "outputId": "42a22310-b7ee-4f76-8a22-155247da97a5"
      }
    },
    {
      "cell_type": "code",
      "execution_count": null,
      "outputs": [],
      "source": [
        "#from sklearn.model_selection import train_test_split\n",
        "X_train, y_train, X_test, y_test = dataset['X_train'], dataset['y_train'], dataset['X_test'], dataset['y_test']"
      ],
      "metadata": {
        "id": "JKHRAlYC2deb"
      }
    },
    {
      "cell_type": "code",
      "execution_count": null,
      "outputs": [
        {
          "output_type": "stream",
          "name": "stderr",
          "text": [
            "WARNING:matplotlib.legend:No artists with labels found to put in legend.  Note that artists whose label start with an underscore are ignored when legend() is called with no argument.\n"
          ]
        },
        {
          "output_type": "display_data",
          "data": {
            "text/plain": [
              "<Figure size 1008x360 with 1 Axes>"
            ],
            "image/png": "[encoded data removed]"
          },
          "metadata": {
            "needs_background": "light"
          }
        }
      ],
      "source": [
        "import matplotlib.pyplot as plt\n",
        "\n",
        "plt.figure(figsize=(14, 5))\n",
        "plt.plot(X_train, y_train, 'bo')\n",
        "plt.xlabel(\"x\")\n",
        "plt.ylabel(\"y\")\n",
        "\n",
        "plt.legend(loc=\"best\")\n",
        "plt.show()"
      ],
      "metadata": {
        "colab": {
          "base_uri": "https://localhost:8080/",
          "height": 373
        },
        "id": "mca9E9q62deb",
        "outputId": "ad74fb68-66c6-473b-81ad-978dcad1119a"
      }
    },
    {
      "cell_type": "markdown",
      "source": [
        "#### Linear regression model fitting"
      ],
      "metadata": {
        "collapsed": false,
        "id": "89Z3Xmrd2dec"
      }
    },
    {
      "cell_type": "code",
      "execution_count": null,
      "outputs": [
        {
          "output_type": "execute_result",
          "data": {
            "text/plain": [
              "      Actual  Predicted\n",
              "0   0.000000   1.478621\n",
              "1   0.270000   1.416445\n",
              "2   0.535057   1.354270\n",
              "3   0.790317   1.292095\n",
              "4   1.031108   1.229919\n",
              "5   1.253020   1.167744\n",
              "6   1.451991   1.105569\n",
              "7   1.624378   1.043393\n",
              "8   1.767024   0.981218\n",
              "9   1.877318   0.919043\n",
              "10  1.953241   0.856867\n",
              "11  1.993402   0.794692\n",
              "12  1.997067   0.732517\n",
              "13  1.964167   0.670341\n",
              "14  1.895306   0.608166\n",
              "15  1.791745   0.545991\n",
              "16  1.655378   0.483816\n",
              "17  1.488703   0.421640\n",
              "18  1.294773   0.359465\n",
              "19  1.077136   0.297290\n",
              "20  0.839778   0.235114\n",
              "21  0.587045   0.172939\n",
              "22  0.323564   0.110764\n",
              "23  0.054159   0.048588\n",
              "24 -0.216238  -0.013587\n",
              "25 -0.482676  -0.075762\n",
              "26 -0.740276  -0.137938\n",
              "27 -0.984323  -0.200113\n",
              "28 -1.210348  -0.262288\n",
              "29 -1.414214  -0.324464"
            ],
            "text/html": [
              "\n",
              "  <div id=\"df-d51232d4-698b-4c8c-b449-d02a8a844c5a\">\n",
              "    <div class=\"colab-df-container\">\n",
              "      <div>\n",
              "<style scoped>\n",
              "    .dataframe tbody tr th:only-of-type {\n",
              "        vertical-align: middle;\n",
              "    }\n",
              "\n",
              "    .dataframe tbody tr th {\n",
              "        vertical-align: top;\n",
              "    }\n",
              "\n",
              "    .dataframe thead th {\n",
              "        text-align: right;\n",
              "    }\n",
              "</style>\n",
              "<table border=\"1\" class=\"dataframe\">\n",
              "  <thead>\n",
              "    <tr style=\"text-align: right;\">\n",
              "      <th></th>\n",
              "      <th>Actual</th>\n",
              "      <th>Predicted</th>\n",
              "    </tr>\n",
              "  </thead>\n",
              "  <tbody>\n",
              "    <tr>\n",
              "      <th>0</th>\n",
              "      <td>0.000000</td>\n",
              "      <td>1.478621</td>\n",
              "    </tr>\n",
              "    <tr>\n",
              "      <th>1</th>\n",
              "      <td>0.270000</td>\n",
              "      <td>1.416445</td>\n",
              "    </tr>\n",
              "    <tr>\n",
              "      <th>2</th>\n",
              "      <td>0.535057</td>\n",
              "      <td>1.354270</td>\n",
              "    </tr>\n",
              "    <tr>\n",
              "      <th>3</th>\n",
              "      <td>0.790317</td>\n",
              "      <td>1.292095</td>\n",
              "    </tr>\n",
              "    <tr>\n",
              "      <th>4</th>\n",
              "      <td>1.031108</td>\n",
              "      <td>1.229919</td>\n",
              "    </tr>\n",
              "    <tr>\n",
              "      <th>5</th>\n",
              "      <td>1.253020</td>\n",
              "      <td>1.167744</td>\n",
              "    </tr>\n",
              "    <tr>\n",
              "      <th>6</th>\n",
              "      <td>1.451991</td>\n",
              "      <td>1.105569</td>\n",
              "    </tr>\n",
              "    <tr>\n",
              "      <th>7</th>\n",
              "      <td>1.624378</td>\n",
              "      <td>1.043393</td>\n",
              "    </tr>\n",
              "    <tr>\n",
              "      <th>8</th>\n",
              "      <td>1.767024</td>\n",
              "      <td>0.981218</td>\n",
              "    </tr>\n",
              "    <tr>\n",
              "      <th>9</th>\n",
              "      <td>1.877318</td>\n",
              "      <td>0.919043</td>\n",
              "    </tr>\n",
              "    <tr>\n",
              "      <th>10</th>\n",
              "      <td>1.953241</td>\n",
              "      <td>0.856867</td>\n",
              "    </tr>\n",
              "    <tr>\n",
              "      <th>11</th>\n",
              "      <td>1.993402</td>\n",
              "      <td>0.794692</td>\n",
              "    </tr>\n",
              "    <tr>\n",
              "      <th>12</th>\n",
              "      <td>1.997067</td>\n",
              "      <td>0.732517</td>\n",
              "    </tr>\n",
              "    <tr>\n",
              "      <th>13</th>\n",
              "      <td>1.964167</td>\n",
              "      <td>0.670341</td>\n",
              "    </tr>\n",
              "    <tr>\n",
              "      <th>14</th>\n",
              "      <td>1.895306</td>\n",
              "      <td>0.608166</td>\n",
              "    </tr>\n",
              "    <tr>\n",
              "      <th>15</th>\n",
              "      <td>1.791745</td>\n",
              "      <td>0.545991</td>\n",
              "    </tr>\n",
              "    <tr>\n",
              "      <th>16</th>\n",
              "      <td>1.655378</td>\n",
              "      <td>0.483816</td>\n",
              "    </tr>\n",
              "    <tr>\n",
              "      <th>17</th>\n",
              "      <td>1.488703</td>\n",
              "      <td>0.421640</td>\n",
              "    </tr>\n",
              "    <tr>\n",
              "      <th>18</th>\n",
              "      <td>1.294773</td>\n",
              "      <td>0.359465</td>\n",
              "    </tr>\n",
              "    <tr>\n",
              "      <th>19</th>\n",
              "      <td>1.077136</td>\n",
              "      <td>0.297290</td>\n",
              "    </tr>\n",
              "    <tr>\n",
              "      <th>20</th>\n",
              "      <td>0.839778</td>\n",
              "      <td>0.235114</td>\n",
              "    </tr>\n",
              "    <tr>\n",
              "      <th>21</th>\n",
              "      <td>0.587045</td>\n",
              "      <td>0.172939</td>\n",
              "    </tr>\n",
              "    <tr>\n",
              "      <th>22</th>\n",
              "      <td>0.323564</td>\n",
              "      <td>0.110764</td>\n",
              "    </tr>\n",
              "    <tr>\n",
              "      <th>23</th>\n",
              "      <td>0.054159</td>\n",
              "      <td>0.048588</td>\n",
              "    </tr>\n",
              "    <tr>\n",
              "      <th>24</th>\n",
              "      <td>-0.216238</td>\n",
              "      <td>-0.013587</td>\n",
              "    </tr>\n",
              "    <tr>\n",
              "      <th>25</th>\n",
              "      <td>-0.482676</td>\n",
              "      <td>-0.075762</td>\n",
              "    </tr>\n",
              "    <tr>\n",
              "      <th>26</th>\n",
              "      <td>-0.740276</td>\n",
              "      <td>-0.137938</td>\n",
              "    </tr>\n",
              "    <tr>\n",
              "      <th>27</th>\n",
              "      <td>-0.984323</td>\n",
              "      <td>-0.200113</td>\n",
              "    </tr>\n",
              "    <tr>\n",
              "      <th>28</th>\n",
              "      <td>-1.210348</td>\n",
              "      <td>-0.262288</td>\n",
              "    </tr>\n",
              "    <tr>\n",
              "      <th>29</th>\n",
              "      <td>-1.414214</td>\n",
              "      <td>-0.324464</td>\n",
              "    </tr>\n",
              "  </tbody>\n",
              "</table>\n",
              "</div>\n",
              "      <button class=\"colab-df-convert\" onclick=\"convertToInteractive('df-d51232d4-698b-4c8c-b449-d02a8a844c5a')\"\n",
              "              title=\"Convert this dataframe to an interactive table.\"\n",
              "              style=\"display:none;\">\n",
              "        \n",
              "  <svg xmlns=\"http://www.w3.org/2000/svg\" height=\"24px\"viewBox=\"0 0 24 24\"\n",
              "       width=\"24px\">\n",
              "    <path d=\"M0 0h24v24H0V0z\" fill=\"none\"/>\n",
              "    <path d=\"M18.56 5.44l.94 2.06.94-2.06 2.06-.94-2.06-.94-.94-2.06-.94 2.06-2.06.94zm-11 1L8.5 8.5l.94-2.06 2.06-.94-2.06-.94L8.5 2.5l-.94 2.06-2.06.94zm10 10l.94 2.06.94-2.06 2.06-.94-2.06-.94-.94-2.06-.94 2.06-2.06.94z\"/><path d=\"M17.41 7.96l-1.37-1.37c-.4-.4-.92-.59-1.43-.59-.52 0-1.04.2-1.43.59L10.3 9.45l-7.72 7.72c-.78.78-.78 2.05 0 2.83L4 21.41c.39.39.9.59 1.41.59.51 0 1.02-.2 1.41-.59l7.78-7.78 2.81-2.81c.8-.78.8-2.07 0-2.86zM5.41 20L4 18.59l7.72-7.72 1.47 1.35L5.41 20z\"/>\n",
              "  </svg>\n",
              "      </button>\n",
              "      \n",
              "  <style>\n",
              "    .colab-df-container {\n",
              "      display:flex;\n",
              "      flex-wrap:wrap;\n",
              "      gap: 12px;\n",
              "    }\n",
              "\n",
              "    .colab-df-convert {\n",
              "      background-color: #E8F0FE;\n",
              "      border: none;\n",
              "      border-radius: 50%;\n",
              "      cursor: pointer;\n",
              "      display: none;\n",
              "      fill: #1967D2;\n",
              "      height: 32px;\n",
              "      padding: 0 0 0 0;\n",
              "      width: 32px;\n",
              "    }\n",
              "\n",
              "    .colab-df-convert:hover {\n",
              "      background-color: #E2EBFA;\n",
              "      box-shadow: 0px 1px 2px rgba(60, 64, 67, 0.3), 0px 1px 3px 1px rgba(60, 64, 67, 0.15);\n",
              "      fill: #174EA6;\n",
              "    }\n",
              "\n",
              "    [theme=dark] .colab-df-convert {\n",
              "      background-color: #3B4455;\n",
              "      fill: #D2E3FC;\n",
              "    }\n",
              "\n",
              "    [theme=dark] .colab-df-convert:hover {\n",
              "      background-color: #434B5C;\n",
              "      box-shadow: 0px 1px 3px 1px rgba(0, 0, 0, 0.15);\n",
              "      filter: drop-shadow(0px 1px 2px rgba(0, 0, 0, 0.3));\n",
              "      fill: #FFFFFF;\n",
              "    }\n",
              "  </style>\n",
              "\n",
              "      <script>\n",
              "        const buttonEl =\n",
              "          document.querySelector('#df-d51232d4-698b-4c8c-b449-d02a8a844c5a button.colab-df-convert');\n",
              "        buttonEl.style.display =\n",
              "          google.colab.kernel.accessAllowed ? 'block' : 'none';\n",
              "\n",
              "        async function convertToInteractive(key) {\n",
              "          const element = document.querySelector('#df-d51232d4-698b-4c8c-b449-d02a8a844c5a');\n",
              "          const dataTable =\n",
              "            await google.colab.kernel.invokeFunction('convertToInteractive',\n",
              "                                                     [key], {});\n",
              "          if (!dataTable) return;\n",
              "\n",
              "          const docLinkHtml = 'Like what you see? Visit the ' +\n",
              "            '<a target=\"_blank\" href=https://colab.research.google.com/notebooks/data_table.ipynb>data table notebook</a>'\n",
              "            + ' to learn more about interactive tables.';\n",
              "          element.innerHTML = '';\n",
              "          dataTable['output_type'] = 'display_data';\n",
              "          await google.colab.output.renderOutput(dataTable, element);\n",
              "          const docLink = document.createElement('div');\n",
              "          docLink.innerHTML = docLinkHtml;\n",
              "          element.appendChild(docLink);\n",
              "        }\n",
              "      </script>\n",
              "    </div>\n",
              "  </div>\n",
              "  "
            ]
          },
          "metadata": {},
          "execution_count": 4
        }
      ],
      "source": [
        "from sklearn.linear_model import LinearRegression\n",
        "import numpy as np\n",
        "\n",
        "regressor = LinearRegression()\n",
        "regressor.fit(np.array(X_train).reshape(-1, 1), y_train)\n",
        "\n",
        "y_pred_lr = regressor.predict(np.array(X_test).reshape(-1, 1))\n",
        "df = pd.DataFrame({'Actual' : y_test, 'Predicted' : y_pred_lr})\n",
        "df\n"
      ],
      "metadata": {
        "colab": {
          "base_uri": "https://localhost:8080/",
          "height": 990
        },
        "id": "RNOfuUzl2dec",
        "outputId": "b2950c03-c212-426c-bea4-96abe944c2b5"
      }
    },
    {
      "cell_type": "markdown",
      "source": [
        "#### Linear regression model prediction & Evaluation\n"
      ],
      "metadata": {
        "collapsed": false,
        "id": "h8_m0KRB2ded"
      }
    },
    {
      "cell_type": "code",
      "execution_count": null,
      "outputs": [],
      "source": [
        "from sklearn import metrics\n",
        "import math \n",
        "\n",
        "def print_metrics(y_actual, y_pred):\n",
        "  mse = metrics.mean_squared_error(y_actual, y_pred)\n",
        "  rmse = math.sqrt(mse)\n",
        "  mae = metrics.mean_absolute_error(y_actual, y_pred)\n",
        "  r2 = metrics.r2_score(y_actual, y_pred)\n",
        "  print('MSE: ', mse)\n",
        "  print('RMSE: ', rmse)\n",
        "  print('MAE: ', mae)\n",
        "  print('R2: ', r2)\n",
        "  \n"
      ],
      "metadata": {
        "id": "pqZtLwxP2ded"
      }
    },
    {
      "cell_type": "code",
      "execution_count": null,
      "outputs": [
        {
          "output_type": "stream",
          "name": "stdout",
          "text": [
            "MSE:  0.78105677092199\n",
            "RMSE:  0.8837741628504365\n",
            "MAE:  0.7837610302414408\n",
            "R2:  0.2609450135378707\n"
          ]
        }
      ],
      "source": [
        "\n",
        "print_metrics(y_test, y_pred_lr)"
      ],
      "metadata": {
        "colab": {
          "base_uri": "https://localhost:8080/"
        },
        "id": "G9AK3Gjd2dee",
        "outputId": "065b1f4f-347c-4fe5-b20a-47c9e764bf28"
      }
    },
    {
      "cell_type": "markdown",
      "source": [
        "#### Plotting original data and prediction\n"
      ],
      "metadata": {
        "collapsed": false,
        "id": "hWB0ALSv2dee"
      }
    },
    {
      "cell_type": "code",
      "execution_count": null,
      "outputs": [
        {
          "output_type": "display_data",
          "data": {
            "text/plain": [
              "<Figure size 1008x360 with 0 Axes>"
            ]
          },
          "metadata": {}
        },
        {
          "output_type": "display_data",
          "data": {
            "text/plain": [
              "<Figure size 432x288 with 1 Axes>"
            ],
            "image/png": "[encoded data removed]"
          },
          "metadata": {
            "needs_background": "light"
          }
        }
      ],
      "source": [
        "import matplotlib.pyplot as plt\n",
        "\n",
        "plt.figure(figsize=(14, 5))\n",
        "\n",
        "df.plot()\n",
        "plt.xlabel(\"x\")\n",
        "plt.ylabel(\"y\")\n",
        "\n",
        "plt.legend(loc=\"best\")\n",
        "plt.show()"
      ],
      "metadata": {
        "colab": {
          "base_uri": "https://localhost:8080/",
          "height": 296
        },
        "id": "L3Z9xRXF2def",
        "outputId": "f5c31d3d-36cd-48e7-8f2c-eb59f145bc92"
      }
    },
    {
      "cell_type": "markdown",
      "source": [
        "#### Did the linear regression model give a good fit? Elaborate your answer"
      ],
      "metadata": {
        "collapsed": false,
        "id": "MGx0ukkm2def"
      }
    },
    {
      "cell_type": "markdown",
      "source": [
        "the linear regression model didn't give a good fit. the predictive model performs poorly on the training data, so our model is underfitting the training data"
      ],
      "metadata": {
        "id": "YkIkQiocJueF"
      }
    },
    {
      "cell_type": "markdown",
      "source": [
        "### Polynomial Regression\n",
        "#### Constructing the polynomial regression pipeline"
      ],
      "metadata": {
        "collapsed": false,
        "id": "BZpRLF4l2def"
      }
    },
    {
      "cell_type": "code",
      "execution_count": null,
      "outputs": [],
      "source": [
        "import numpy as np\n",
        "from sklearn.pipeline import Pipeline\n",
        "from sklearn.preprocessing import PolynomialFeatures\n",
        "from sklearn.linear_model import LinearRegression\n",
        "from sklearn.model_selection import cross_val_score"
      ],
      "metadata": {
        "id": "aLgA0v-32deg"
      }
    },
    {
      "cell_type": "code",
      "execution_count": null,
      "outputs": [],
      "source": [
        "from numpy.lib import polynomial\n",
        "pipeline = Pipeline([(\"polynomial_features\", PolynomialFeatures()),\n",
        "                     (\"linear_regression\", LinearRegression())\n",
        "])"
      ],
      "metadata": {
        "id": "IXoA-ZIB2deg"
      }
    },
    {
      "cell_type": "markdown",
      "source": [
        "#### Tuning the degree hyper-parameter using GridSearch"
      ],
      "metadata": {
        "collapsed": false,
        "id": "SHmQ_wIa2deh"
      }
    },
    {
      "cell_type": "code",
      "execution_count": null,
      "outputs": [
        {
          "output_type": "stream",
          "name": "stdout",
          "text": [
            "Best parameter:  {'polynomial_features__degree': 2} (CV score=-1.226)\n"
          ]
        }
      ],
      "source": [
        "from sklearn.model_selection import GridSearchCV\n",
        "\n",
        "degrees = list(range(2, 10))\n",
        "parameters = {'polynomial_features__degree' : degrees}\n",
        "\n",
        "search = GridSearchCV(estimator = pipeline, param_grid = parameters, cv = 8, scoring = 'neg_mean_squared_error')\n",
        "\n",
        "x = np.array(X_train).reshape(-1, 1) + np.array(X_test).reshape(-1, 1)\n",
        "y = y_train + y_test\n",
        "search.fit(x, y)\n",
        "print(\"Best parameter: \", search.best_params_, end = ' ')\n",
        "print(\"(CV score=%0.3f)\" % search.best_score_)"
      ],
      "metadata": {
        "colab": {
          "base_uri": "https://localhost:8080/"
        },
        "id": "fiZR5Jna2deh",
        "outputId": "2361c079-17e4-48a1-920f-4a3b60351db1"
      }
    },
    {
      "cell_type": "code",
      "execution_count": null,
      "outputs": [
        {
          "output_type": "stream",
          "name": "stdout",
          "text": [
            "MSE:  5.769968378288356\n",
            "RMSE:  2.402075847738442\n",
            "MAE:  1.7778216780299956\n",
            "R2:  -4.459684955639063\n"
          ]
        }
      ],
      "source": [
        "y_pred = search.predict(np.array(X_test).reshape(-1, 1))\n",
        "print_metrics(y_test, y_pred)"
      ],
      "metadata": {
        "id": "7SEiTQE82dei",
        "colab": {
          "base_uri": "https://localhost:8080/"
        },
        "outputId": "e1e8c693-11b0-4a15-ee43-79fcecb9d050"
      }
    },
    {
      "cell_type": "markdown",
      "source": [
        "#### Manually finding the best degree"
      ],
      "metadata": {
        "collapsed": false,
        "id": "HvcP8ZTP2dei"
      }
    },
    {
      "cell_type": "code",
      "execution_count": null,
      "outputs": [
        {
          "output_type": "stream",
          "name": "stdout",
          "text": [
            "-1.2258650382403466\n",
            "-1.5406853909378015\n",
            "-4.468356166791317\n",
            "-12.886909639891124\n",
            "-48.74819085907906\n",
            "-296.0306999389886\n",
            "-529.5089293919535\n",
            "-1884.9477539658683\n",
            "Best degree:  2 (CV score=-1.226)\n"
          ]
        }
      ],
      "source": [
        "min_score, min_degree = 1e10, 0\n",
        "for i in range(len(degrees)):\n",
        "  polynomial_features = PolynomialFeatures(degree=degrees[i])\n",
        "  linear_regression = LinearRegression()\n",
        "  pipeline = Pipeline([(\"polynomial_features\", polynomial_features),\n",
        "                       (\"linear_regression\", linear_regression)])\n",
        "  scores = cross_val_score(pipeline, x, y, cv = 8, scoring = 'neg_mean_squared_error')\n",
        "  mean_scores = np.mean(scores)\n",
        "  print(mean_scores)\n",
        "  if min_score < mean_scores or min_score == 1e10:\n",
        "    min_score, min_degree = mean_scores, degrees[i]\n",
        "print('Best degree: ', min_degree, end = ' ')\n",
        "print(\"(CV score=%0.3f)\" % min_score)"
      ],
      "metadata": {
        "id": "l8Jp3pUk2dei",
        "colab": {
          "base_uri": "https://localhost:8080/"
        },
        "outputId": "217c7773-da43-4828-f2e2-f5d01e68ac0e"
      }
    },
    {
      "cell_type": "markdown",
      "source": [
        "#### Plotting the test data and the best degree polynomial model"
      ],
      "metadata": {
        "collapsed": false,
        "id": "sGcGsDZ-2dej"
      }
    },
    {
      "cell_type": "code",
      "execution_count": null,
      "outputs": [
        {
          "output_type": "display_data",
          "data": {
            "text/plain": [
              "<Figure size 1008x360 with 1 Axes>"
            ],
            "image/png": "[encoded data removed]"
          },
          "metadata": {
            "needs_background": "light"
          }
        }
      ],
      "source": [
        "plt.figure(figsize=(14, 5))\n",
        "plt.plot(X_test, y_test, label=\"test data\")\n",
        "\n",
        "pipeline = Pipeline([(\"polynomial_features\", PolynomialFeatures(degree = min_degree)),\n",
        "                     (\"linear_regression\", LinearRegression())])\n",
        "pipeline.fit(np.array(X_train).reshape(-1, 1), y_train)\n",
        "y_pred_bd = pipeline.predict(np.array(X_test).reshape(-1, 1))\n",
        "plt.plot(X_test, y_pred_bd, color = 'Red', label = 'best deree polynomial model')\n",
        "plt.xlabel(\"x\")\n",
        "plt.ylabel(\"y\")\n",
        "\n",
        "plt.legend(loc=\"best\")\n",
        "plt.show()"
      ],
      "metadata": {
        "id": "M7ATkEmr2dej",
        "colab": {
          "base_uri": "https://localhost:8080/",
          "height": 334
        },
        "outputId": "09c43433-7c10-4501-8290-075589536b98"
      }
    },
    {
      "cell_type": "markdown",
      "source": [],
      "metadata": {
        "collapsed": false,
        "id": "jjMQiyi92dek"
      }
    },
    {
      "cell_type": "markdown",
      "source": [
        "## Task 2"
      ],
      "metadata": {
        "collapsed": false,
        "id": "jWDDB6Jj2dek"
      }
    },
    {
      "cell_type": "markdown",
      "source": [
        "### Data processing\n",
        "#### Loading the dataset"
      ],
      "metadata": {
        "collapsed": false,
        "id": "_JAnqrbT2dek"
      }
    },
    {
      "cell_type": "code",
      "execution_count": null,
      "outputs": [
        {
          "output_type": "stream",
          "name": "stdout",
          "text": [
            "<class 'pandas.core.frame.DataFrame'>\n",
            "RangeIndex: 801 entries, 0 to 800\n",
            "Data columns (total 37 columns):\n",
            " #   Column             Non-Null Count  Dtype  \n",
            "---  ------             --------------  -----  \n",
            " 0   against_bug        801 non-null    float64\n",
            " 1   against_dark       801 non-null    float64\n",
            " 2   against_dragon     801 non-null    float64\n",
            " 3   against_electric   801 non-null    float64\n",
            " 4   against_fairy      801 non-null    float64\n",
            " 5   against_fight      801 non-null    float64\n",
            " 6   against_fire       801 non-null    float64\n",
            " 7   against_flying     801 non-null    float64\n",
            " 8   against_ghost      801 non-null    float64\n",
            " 9   against_grass      801 non-null    float64\n",
            " 10  against_ground     801 non-null    float64\n",
            " 11  against_ice        801 non-null    float64\n",
            " 12  against_normal     801 non-null    float64\n",
            " 13  against_poison     801 non-null    float64\n",
            " 14  against_psychic    801 non-null    float64\n",
            " 15  against_rock       801 non-null    float64\n",
            " 16  against_steel      801 non-null    float64\n",
            " 17  against_water      801 non-null    float64\n",
            " 18  attack             801 non-null    int64  \n",
            " 19  base_egg_steps     801 non-null    int64  \n",
            " 20  base_happiness     801 non-null    int64  \n",
            " 21  base_total         801 non-null    int64  \n",
            " 22  capture_rate       801 non-null    int64  \n",
            " 23  classification     801 non-null    object \n",
            " 24  defense            801 non-null    int64  \n",
            " 25  experience_growth  801 non-null    int64  \n",
            " 26  height_m           781 non-null    float64\n",
            " 27  hp                 801 non-null    int64  \n",
            " 28  name               801 non-null    object \n",
            " 29  percentage_male    703 non-null    float64\n",
            " 30  type1              801 non-null    object \n",
            " 31  sp_attack          801 non-null    int64  \n",
            " 32  sp_defense         801 non-null    int64  \n",
            " 33  speed              801 non-null    int64  \n",
            " 34  weight_kg          781 non-null    float64\n",
            " 35  generation         801 non-null    int64  \n",
            " 36  is_legendary       801 non-null    int64  \n",
            "dtypes: float64(21), int64(13), object(3)\n",
            "memory usage: 231.7+ KB\n"
          ]
        }
      ],
      "source": [
        "import pandas as pd\n",
        "dataset = pd.read_csv('pokemon_modified.csv')\n",
        "dataset.info()\n"
      ],
      "metadata": {
        "id": "HfeaNgku2del",
        "colab": {
          "base_uri": "https://localhost:8080/"
        },
        "outputId": "9539ccab-aafc-47b6-d791-556e4c01b7a9"
      }
    },
    {
      "cell_type": "markdown",
      "source": [
        "#### Remove the 2 redundant features"
      ],
      "metadata": {
        "collapsed": false,
        "id": "_g-_uO8q2del"
      }
    },
    {
      "cell_type": "code",
      "execution_count": null,
      "outputs": [],
      "source": [
        "dataset = dataset.drop(['name', 'classification'], axis = 1)\n",
        "y = dataset.loc[:, 'is_legendary']\n",
        "X = dataset.drop(['is_legendary'], axis = 1)\n"
      ],
      "metadata": {
        "id": "z18qm1Oc2del"
      }
    },
    {
      "cell_type": "markdown",
      "source": [
        "there are 3 features that can be removed: name, classification and type1. firstly we can get rid of the name of the pokemon, since it is used to identify the pokemon and have mostly uniq classes. then we remove classification since it has more uniq classes than type1"
      ],
      "metadata": {
        "id": "3TkqFBargXLK"
      }
    },
    {
      "cell_type": "markdown",
      "source": [
        "#### Splitting the data\n",
        "random_state = 123, use stratify, test_size = 0.2"
      ],
      "metadata": {
        "collapsed": false,
        "id": "6mfTQfii2dem"
      }
    },
    {
      "cell_type": "code",
      "execution_count": null,
      "outputs": [],
      "source": [
        "from sklearn.model_selection import train_test_split\n",
        "X_train, X_test, y_train, y_test = train_test_split(X, y, test_size = 0.2, random_state=123, stratify=y)"
      ],
      "metadata": {
        "id": "LAS1MwOU2dem"
      }
    },
    {
      "cell_type": "markdown",
      "source": [
        "Check if the dataset is balanced or not and comment on it"
      ],
      "metadata": {
        "collapsed": false,
        "id": "0OI2UwAS2dem"
      }
    },
    {
      "cell_type": "code",
      "execution_count": null,
      "outputs": [
        {
          "output_type": "stream",
          "name": "stdout",
          "text": [
            "% of legendary samples in train set:  0.0875\n",
            "% of legendary samples in test set:  0.08695652173913043\n"
          ]
        }
      ],
      "source": [
        "print('% of legendary samples in train set: ', sum(y_train)/len(y_train))\n",
        "print('% of legendary samples in test set: ', sum(y_test)/len(y_test))"
      ],
      "metadata": {
        "id": "bB93Rz9s2den",
        "colab": {
          "base_uri": "https://localhost:8080/"
        },
        "outputId": "81553468-8c6d-4265-96be-f2d37c42a895"
      }
    },
    {
      "cell_type": "markdown",
      "source": [
        "the dataset is not balanced since the number of legendary samples is much less, then the number of non legendary (0.08 vs 99.92)"
      ],
      "metadata": {
        "id": "qdymqGdhHGiI"
      }
    },
    {
      "cell_type": "markdown",
      "source": [
        "#### Exploring the dataset and checking for missing values"
      ],
      "metadata": {
        "collapsed": false,
        "id": "N6cksRuE2den"
      }
    },
    {
      "cell_type": "code",
      "execution_count": null,
      "outputs": [
        {
          "output_type": "stream",
          "name": "stdout",
          "text": [
            "<class 'pandas.core.frame.DataFrame'>\n",
            "RangeIndex: 801 entries, 0 to 800\n",
            "Data columns (total 35 columns):\n",
            " #   Column             Non-Null Count  Dtype  \n",
            "---  ------             --------------  -----  \n",
            " 0   against_bug        801 non-null    float64\n",
            " 1   against_dark       801 non-null    float64\n",
            " 2   against_dragon     801 non-null    float64\n",
            " 3   against_electric   801 non-null    float64\n",
            " 4   against_fairy      801 non-null    float64\n",
            " 5   against_fight      801 non-null    float64\n",
            " 6   against_fire       801 non-null    float64\n",
            " 7   against_flying     801 non-null    float64\n",
            " 8   against_ghost      801 non-null    float64\n",
            " 9   against_grass      801 non-null    float64\n",
            " 10  against_ground     801 non-null    float64\n",
            " 11  against_ice        801 non-null    float64\n",
            " 12  against_normal     801 non-null    float64\n",
            " 13  against_poison     801 non-null    float64\n",
            " 14  against_psychic    801 non-null    float64\n",
            " 15  against_rock       801 non-null    float64\n",
            " 16  against_steel      801 non-null    float64\n",
            " 17  against_water      801 non-null    float64\n",
            " 18  attack             801 non-null    int64  \n",
            " 19  base_egg_steps     801 non-null    int64  \n",
            " 20  base_happiness     801 non-null    int64  \n",
            " 21  base_total         801 non-null    int64  \n",
            " 22  capture_rate       801 non-null    int64  \n",
            " 23  defense            801 non-null    int64  \n",
            " 24  experience_growth  801 non-null    int64  \n",
            " 25  height_m           781 non-null    float64\n",
            " 26  hp                 801 non-null    int64  \n",
            " 27  percentage_male    703 non-null    float64\n",
            " 28  type1              801 non-null    object \n",
            " 29  sp_attack          801 non-null    int64  \n",
            " 30  sp_defense         801 non-null    int64  \n",
            " 31  speed              801 non-null    int64  \n",
            " 32  weight_kg          781 non-null    float64\n",
            " 33  generation         801 non-null    int64  \n",
            " 34  is_legendary       801 non-null    int64  \n",
            "dtypes: float64(21), int64(13), object(1)\n",
            "memory usage: 219.1+ KB\n"
          ]
        }
      ],
      "source": [
        "dataset.info()"
      ],
      "metadata": {
        "id": "RpvdzzJx2deo",
        "colab": {
          "base_uri": "https://localhost:8080/"
        },
        "outputId": "462cad24-0e0b-4656-cd53-8b80c6f7917e"
      }
    },
    {
      "cell_type": "markdown",
      "source": [
        "features with missing values: height_m (781), percentage_male(703) and weight_kg (781), since all other features have 801 values"
      ],
      "metadata": {
        "id": "kOzMqqgXLMlr"
      }
    },
    {
      "cell_type": "code",
      "execution_count": null,
      "outputs": [
        {
          "output_type": "execute_result",
          "data": {
            "text/plain": [
              "   against_bug  against_dark  against_dragon  against_electric  against_fairy  \\\n",
              "0          1.0           1.0             1.0               0.5            0.5   \n",
              "1          1.0           1.0             1.0               0.5            0.5   \n",
              "2          1.0           1.0             1.0               0.5            0.5   \n",
              "3          0.5           1.0             1.0               1.0            0.5   \n",
              "4          0.5           1.0             1.0               1.0            0.5   \n",
              "\n",
              "   against_fight  against_fire  against_flying  against_ghost  against_grass  \\\n",
              "0            0.5           2.0             2.0            1.0           0.25   \n",
              "1            0.5           2.0             2.0            1.0           0.25   \n",
              "2            0.5           2.0             2.0            1.0           0.25   \n",
              "3            1.0           0.5             1.0            1.0           0.50   \n",
              "4            1.0           0.5             1.0            1.0           0.50   \n",
              "\n",
              "   ...  height_m  hp  percentage_male  type1  sp_attack  sp_defense  speed  \\\n",
              "0  ...       0.7  45             88.1  grass         65          65     45   \n",
              "1  ...       1.0  60             88.1  grass         80          80     60   \n",
              "2  ...       2.0  80             88.1  grass        122         120     80   \n",
              "3  ...       0.6  39             88.1   fire         60          50     65   \n",
              "4  ...       1.1  58             88.1   fire         80          65     80   \n",
              "\n",
              "   weight_kg  generation  is_legendary  \n",
              "0        6.9           1             0  \n",
              "1       13.0           1             0  \n",
              "2      100.0           1             0  \n",
              "3        8.5           1             0  \n",
              "4       19.0           1             0  \n",
              "\n",
              "[5 rows x 35 columns]"
            ],
            "text/html": [
              "\n",
              "  <div id=\"df-f00e9eb6-b13c-4140-9172-d241598e6685\">\n",
              "    <div class=\"colab-df-container\">\n",
              "      <div>\n",
              "<style scoped>\n",
              "    .dataframe tbody tr th:only-of-type {\n",
              "        vertical-align: middle;\n",
              "    }\n",
              "\n",
              "    .dataframe tbody tr th {\n",
              "        vertical-align: top;\n",
              "    }\n",
              "\n",
              "    .dataframe thead th {\n",
              "        text-align: right;\n",
              "    }\n",
              "</style>\n",
              "<table border=\"1\" class=\"dataframe\">\n",
              "  <thead>\n",
              "    <tr style=\"text-align: right;\">\n",
              "      <th></th>\n",
              "      <th>against_bug</th>\n",
              "      <th>against_dark</th>\n",
              "      <th>against_dragon</th>\n",
              "      <th>against_electric</th>\n",
              "      <th>against_fairy</th>\n",
              "      <th>against_fight</th>\n",
              "      <th>against_fire</th>\n",
              "      <th>against_flying</th>\n",
              "      <th>against_ghost</th>\n",
              "      <th>against_grass</th>\n",
              "      <th>...</th>\n",
              "      <th>height_m</th>\n",
              "      <th>hp</th>\n",
              "      <th>percentage_male</th>\n",
              "      <th>type1</th>\n",
              "      <th>sp_attack</th>\n",
              "      <th>sp_defense</th>\n",
              "      <th>speed</th>\n",
              "      <th>weight_kg</th>\n",
              "      <th>generation</th>\n",
              "      <th>is_legendary</th>\n",
              "    </tr>\n",
              "  </thead>\n",
              "  <tbody>\n",
              "    <tr>\n",
              "      <th>0</th>\n",
              "      <td>1.0</td>\n",
              "      <td>1.0</td>\n",
              "      <td>1.0</td>\n",
              "      <td>0.5</td>\n",
              "      <td>0.5</td>\n",
              "      <td>0.5</td>\n",
              "      <td>2.0</td>\n",
              "      <td>2.0</td>\n",
              "      <td>1.0</td>\n",
              "      <td>0.25</td>\n",
              "      <td>...</td>\n",
              "      <td>0.7</td>\n",
              "      <td>45</td>\n",
              "      <td>88.1</td>\n",
              "      <td>grass</td>\n",
              "      <td>65</td>\n",
              "      <td>65</td>\n",
              "      <td>45</td>\n",
              "      <td>6.9</td>\n",
              "      <td>1</td>\n",
              "      <td>0</td>\n",
              "    </tr>\n",
              "    <tr>\n",
              "      <th>1</th>\n",
              "      <td>1.0</td>\n",
              "      <td>1.0</td>\n",
              "      <td>1.0</td>\n",
              "      <td>0.5</td>\n",
              "      <td>0.5</td>\n",
              "      <td>0.5</td>\n",
              "      <td>2.0</td>\n",
              "      <td>2.0</td>\n",
              "      <td>1.0</td>\n",
              "      <td>0.25</td>\n",
              "      <td>...</td>\n",
              "      <td>1.0</td>\n",
              "      <td>60</td>\n",
              "      <td>88.1</td>\n",
              "      <td>grass</td>\n",
              "      <td>80</td>\n",
              "      <td>80</td>\n",
              "      <td>60</td>\n",
              "      <td>13.0</td>\n",
              "      <td>1</td>\n",
              "      <td>0</td>\n",
              "    </tr>\n",
              "    <tr>\n",
              "      <th>2</th>\n",
              "      <td>1.0</td>\n",
              "      <td>1.0</td>\n",
              "      <td>1.0</td>\n",
              "      <td>0.5</td>\n",
              "      <td>0.5</td>\n",
              "      <td>0.5</td>\n",
              "      <td>2.0</td>\n",
              "      <td>2.0</td>\n",
              "      <td>1.0</td>\n",
              "      <td>0.25</td>\n",
              "      <td>...</td>\n",
              "      <td>2.0</td>\n",
              "      <td>80</td>\n",
              "      <td>88.1</td>\n",
              "      <td>grass</td>\n",
              "      <td>122</td>\n",
              "      <td>120</td>\n",
              "      <td>80</td>\n",
              "      <td>100.0</td>\n",
              "      <td>1</td>\n",
              "      <td>0</td>\n",
              "    </tr>\n",
              "    <tr>\n",
              "      <th>3</th>\n",
              "      <td>0.5</td>\n",
              "      <td>1.0</td>\n",
              "      <td>1.0</td>\n",
              "      <td>1.0</td>\n",
              "      <td>0.5</td>\n",
              "      <td>1.0</td>\n",
              "      <td>0.5</td>\n",
              "      <td>1.0</td>\n",
              "      <td>1.0</td>\n",
              "      <td>0.50</td>\n",
              "      <td>...</td>\n",
              "      <td>0.6</td>\n",
              "      <td>39</td>\n",
              "      <td>88.1</td>\n",
              "      <td>fire</td>\n",
              "      <td>60</td>\n",
              "      <td>50</td>\n",
              "      <td>65</td>\n",
              "      <td>8.5</td>\n",
              "      <td>1</td>\n",
              "      <td>0</td>\n",
              "    </tr>\n",
              "    <tr>\n",
              "      <th>4</th>\n",
              "      <td>0.5</td>\n",
              "      <td>1.0</td>\n",
              "      <td>1.0</td>\n",
              "      <td>1.0</td>\n",
              "      <td>0.5</td>\n",
              "      <td>1.0</td>\n",
              "      <td>0.5</td>\n",
              "      <td>1.0</td>\n",
              "      <td>1.0</td>\n",
              "      <td>0.50</td>\n",
              "      <td>...</td>\n",
              "      <td>1.1</td>\n",
              "      <td>58</td>\n",
              "      <td>88.1</td>\n",
              "      <td>fire</td>\n",
              "      <td>80</td>\n",
              "      <td>65</td>\n",
              "      <td>80</td>\n",
              "      <td>19.0</td>\n",
              "      <td>1</td>\n",
              "      <td>0</td>\n",
              "    </tr>\n",
              "  </tbody>\n",
              "</table>\n",
              "<p>5 rows × 35 columns</p>\n",
              "</div>\n",
              "      <button class=\"colab-df-convert\" onclick=\"convertToInteractive('df-f00e9eb6-b13c-4140-9172-d241598e6685')\"\n",
              "              title=\"Convert this dataframe to an interactive table.\"\n",
              "              style=\"display:none;\">\n",
              "        \n",
              "  <svg xmlns=\"http://www.w3.org/2000/svg\" height=\"24px\"viewBox=\"0 0 24 24\"\n",
              "       width=\"24px\">\n",
              "    <path d=\"M0 0h24v24H0V0z\" fill=\"none\"/>\n",
              "    <path d=\"M18.56 5.44l.94 2.06.94-2.06 2.06-.94-2.06-.94-.94-2.06-.94 2.06-2.06.94zm-11 1L8.5 8.5l.94-2.06 2.06-.94-2.06-.94L8.5 2.5l-.94 2.06-2.06.94zm10 10l.94 2.06.94-2.06 2.06-.94-2.06-.94-.94-2.06-.94 2.06-2.06.94z\"/><path d=\"M17.41 7.96l-1.37-1.37c-.4-.4-.92-.59-1.43-.59-.52 0-1.04.2-1.43.59L10.3 9.45l-7.72 7.72c-.78.78-.78 2.05 0 2.83L4 21.41c.39.39.9.59 1.41.59.51 0 1.02-.2 1.41-.59l7.78-7.78 2.81-2.81c.8-.78.8-2.07 0-2.86zM5.41 20L4 18.59l7.72-7.72 1.47 1.35L5.41 20z\"/>\n",
              "  </svg>\n",
              "      </button>\n",
              "      \n",
              "  <style>\n",
              "    .colab-df-container {\n",
              "      display:flex;\n",
              "      flex-wrap:wrap;\n",
              "      gap: 12px;\n",
              "    }\n",
              "\n",
              "    .colab-df-convert {\n",
              "      background-color: #E8F0FE;\n",
              "      border: none;\n",
              "      border-radius: 50%;\n",
              "      cursor: pointer;\n",
              "      display: none;\n",
              "      fill: #1967D2;\n",
              "      height: 32px;\n",
              "      padding: 0 0 0 0;\n",
              "      width: 32px;\n",
              "    }\n",
              "\n",
              "    .colab-df-convert:hover {\n",
              "      background-color: #E2EBFA;\n",
              "      box-shadow: 0px 1px 2px rgba(60, 64, 67, 0.3), 0px 1px 3px 1px rgba(60, 64, 67, 0.15);\n",
              "      fill: #174EA6;\n",
              "    }\n",
              "\n",
              "    [theme=dark] .colab-df-convert {\n",
              "      background-color: #3B4455;\n",
              "      fill: #D2E3FC;\n",
              "    }\n",
              "\n",
              "    [theme=dark] .colab-df-convert:hover {\n",
              "      background-color: #434B5C;\n",
              "      box-shadow: 0px 1px 3px 1px rgba(0, 0, 0, 0.15);\n",
              "      filter: drop-shadow(0px 1px 2px rgba(0, 0, 0, 0.3));\n",
              "      fill: #FFFFFF;\n",
              "    }\n",
              "  </style>\n",
              "\n",
              "      <script>\n",
              "        const buttonEl =\n",
              "          document.querySelector('#df-f00e9eb6-b13c-4140-9172-d241598e6685 button.colab-df-convert');\n",
              "        buttonEl.style.display =\n",
              "          google.colab.kernel.accessAllowed ? 'block' : 'none';\n",
              "\n",
              "        async function convertToInteractive(key) {\n",
              "          const element = document.querySelector('#df-f00e9eb6-b13c-4140-9172-d241598e6685');\n",
              "          const dataTable =\n",
              "            await google.colab.kernel.invokeFunction('convertToInteractive',\n",
              "                                                     [key], {});\n",
              "          if (!dataTable) return;\n",
              "\n",
              "          const docLinkHtml = 'Like what you see? Visit the ' +\n",
              "            '<a target=\"_blank\" href=https://colab.research.google.com/notebooks/data_table.ipynb>data table notebook</a>'\n",
              "            + ' to learn more about interactive tables.';\n",
              "          element.innerHTML = '';\n",
              "          dataTable['output_type'] = 'display_data';\n",
              "          await google.colab.output.renderOutput(dataTable, element);\n",
              "          const docLink = document.createElement('div');\n",
              "          docLink.innerHTML = docLinkHtml;\n",
              "          element.appendChild(docLink);\n",
              "        }\n",
              "      </script>\n",
              "    </div>\n",
              "  </div>\n",
              "  "
            ]
          },
          "metadata": {},
          "execution_count": 19
        }
      ],
      "source": [
        "dataset.head()"
      ],
      "metadata": {
        "id": "SXS9RLXY2dep",
        "colab": {
          "base_uri": "https://localhost:8080/",
          "height": 300
        },
        "outputId": "c0ac613d-5568-4a92-aefb-f98bc18240b9"
      }
    },
    {
      "cell_type": "markdown",
      "source": [
        "#### Impute the missing values"
      ],
      "metadata": {
        "collapsed": false,
        "id": "8b2SV-Qq2dep"
      }
    },
    {
      "cell_type": "code",
      "execution_count": null,
      "outputs": [],
      "source": [
        "def imput_most_frequent(X, imput):\n",
        "  #X = pd.DataFrame(imput.fit_transform(X), columns=X.columns)\n",
        "  X['height_m'] = imput.fit_transform(np.array(X['height_m']).reshape(-1,1))\n",
        "  X['percentage_male'] = imput.fit_transform(np.array(X['percentage_male']).reshape(-1,1))\n",
        "  X['weight_kg'] = imput.fit_transform(np.array(X['weight_kg']).reshape(-1,1))\n",
        "  return X"
      ],
      "metadata": {
        "id": "xFPdmYyn2dep"
      }
    },
    {
      "cell_type": "code",
      "execution_count": null,
      "outputs": [
        {
          "output_type": "stream",
          "name": "stdout",
          "text": [
            "<class 'pandas.core.frame.DataFrame'>\n",
            "Int64Index: 640 entries, 564 to 693\n",
            "Data columns (total 34 columns):\n",
            " #   Column             Non-Null Count  Dtype  \n",
            "---  ------             --------------  -----  \n",
            " 0   against_bug        640 non-null    float64\n",
            " 1   against_dark       640 non-null    float64\n",
            " 2   against_dragon     640 non-null    float64\n",
            " 3   against_electric   640 non-null    float64\n",
            " 4   against_fairy      640 non-null    float64\n",
            " 5   against_fight      640 non-null    float64\n",
            " 6   against_fire       640 non-null    float64\n",
            " 7   against_flying     640 non-null    float64\n",
            " 8   against_ghost      640 non-null    float64\n",
            " 9   against_grass      640 non-null    float64\n",
            " 10  against_ground     640 non-null    float64\n",
            " 11  against_ice        640 non-null    float64\n",
            " 12  against_normal     640 non-null    float64\n",
            " 13  against_poison     640 non-null    float64\n",
            " 14  against_psychic    640 non-null    float64\n",
            " 15  against_rock       640 non-null    float64\n",
            " 16  against_steel      640 non-null    float64\n",
            " 17  against_water      640 non-null    float64\n",
            " 18  attack             640 non-null    int64  \n",
            " 19  base_egg_steps     640 non-null    int64  \n",
            " 20  base_happiness     640 non-null    int64  \n",
            " 21  base_total         640 non-null    int64  \n",
            " 22  capture_rate       640 non-null    int64  \n",
            " 23  defense            640 non-null    int64  \n",
            " 24  experience_growth  640 non-null    int64  \n",
            " 25  height_m           640 non-null    float64\n",
            " 26  hp                 640 non-null    int64  \n",
            " 27  percentage_male    640 non-null    float64\n",
            " 28  type1              640 non-null    object \n",
            " 29  sp_attack          640 non-null    int64  \n",
            " 30  sp_defense         640 non-null    int64  \n",
            " 31  speed              640 non-null    int64  \n",
            " 32  weight_kg          640 non-null    float64\n",
            " 33  generation         640 non-null    int64  \n",
            "dtypes: float64(21), int64(12), object(1)\n",
            "memory usage: 175.0+ KB\n"
          ]
        }
      ],
      "source": [
        "from sklearn.impute import SimpleImputer\n",
        "import numpy as np\n",
        "\n",
        "imputer = SimpleImputer(strategy = 'most_frequent')\n",
        "X_test = imput_most_frequent(X_test, imputer)\n",
        "X_train = imput_most_frequent(X_train, imputer)\n",
        "X_train.info()\n"
      ],
      "metadata": {
        "id": "EUaQhQwD2dep",
        "colab": {
          "base_uri": "https://localhost:8080/"
        },
        "outputId": "96457649-4a81-4805-da44-4d1a4ca329e0"
      }
    },
    {
      "cell_type": "markdown",
      "source": [
        "#### Double check that there are no missing values"
      ],
      "metadata": {
        "collapsed": false,
        "id": "2mU3V_wj2deq"
      }
    },
    {
      "cell_type": "code",
      "execution_count": null,
      "outputs": [
        {
          "output_type": "execute_result",
          "data": {
            "text/plain": [
              "against_bug          0\n",
              "against_dark         0\n",
              "against_dragon       0\n",
              "against_electric     0\n",
              "against_fairy        0\n",
              "against_fight        0\n",
              "against_fire         0\n",
              "against_flying       0\n",
              "against_ghost        0\n",
              "against_grass        0\n",
              "against_ground       0\n",
              "against_ice          0\n",
              "against_normal       0\n",
              "against_poison       0\n",
              "against_psychic      0\n",
              "against_rock         0\n",
              "against_steel        0\n",
              "against_water        0\n",
              "attack               0\n",
              "base_egg_steps       0\n",
              "base_happiness       0\n",
              "base_total           0\n",
              "capture_rate         0\n",
              "defense              0\n",
              "experience_growth    0\n",
              "height_m             0\n",
              "hp                   0\n",
              "percentage_male      0\n",
              "type1                0\n",
              "sp_attack            0\n",
              "sp_defense           0\n",
              "speed                0\n",
              "weight_kg            0\n",
              "generation           0\n",
              "dtype: int64"
            ]
          },
          "metadata": {},
          "execution_count": 22
        }
      ],
      "source": [
        "X_train.isna().sum()"
      ],
      "metadata": {
        "id": "i5MFyNHo2deq",
        "colab": {
          "base_uri": "https://localhost:8080/"
        },
        "outputId": "857b2cdc-28fc-4cfb-8672-f7cbac1529c4"
      }
    },
    {
      "cell_type": "markdown",
      "source": [
        "#### Encode categorically"
      ],
      "metadata": {
        "collapsed": false,
        "id": "JjugfO_N2deq"
      }
    },
    {
      "cell_type": "code",
      "execution_count": null,
      "outputs": [],
      "source": [
        "from sklearn.preprocessing import OneHotEncoder\n",
        "encoder = OneHotEncoder()"
      ],
      "metadata": {
        "id": "eS04c1ww2der"
      }
    },
    {
      "cell_type": "code",
      "execution_count": null,
      "outputs": [],
      "source": [
        "import numpy as np\n",
        "def one_hot_encoder(X, encoder):\n",
        "  new_f = encoder.fit_transform(np.array(X['type1']).reshape(-1, 1))\n",
        "  #enc_data = pd.DataFrame(new_f.toarray())\n",
        "\n",
        "  for i in encoder.categories_:\n",
        "    X[i] = new_f.toarray()\n",
        "  X = X.drop(['type1'], axis = 1)\n",
        "  #new_X = X.join(enc_data)\n",
        "  \n",
        "  return X"
      ],
      "metadata": {
        "id": "BO0tCNGo2der"
      }
    },
    {
      "cell_type": "code",
      "execution_count": null,
      "outputs": [
        {
          "output_type": "stream",
          "name": "stdout",
          "text": [
            "<class 'pandas.core.frame.DataFrame'>\n",
            "Int64Index: 640 entries, 564 to 693\n",
            "Data columns (total 50 columns):\n",
            " #   Column             Non-Null Count  Dtype  \n",
            "---  ------             --------------  -----  \n",
            " 0   against_bug        640 non-null    float64\n",
            " 1   against_dark       640 non-null    float64\n",
            " 2   against_dragon     640 non-null    float64\n",
            " 3   against_electric   640 non-null    float64\n",
            " 4   against_fairy      640 non-null    float64\n",
            " 5   against_fight      640 non-null    float64\n",
            " 6   against_fire       640 non-null    float64\n",
            " 7   against_flying     640 non-null    float64\n",
            " 8   against_ghost      640 non-null    float64\n",
            " 9   against_grass      640 non-null    float64\n",
            " 10  against_ground     640 non-null    float64\n",
            " 11  against_ice        640 non-null    float64\n",
            " 12  against_normal     640 non-null    float64\n",
            " 13  against_poison     640 non-null    float64\n",
            " 14  against_psychic    640 non-null    float64\n",
            " 15  against_rock       640 non-null    float64\n",
            " 16  against_steel      640 non-null    float64\n",
            " 17  against_water      640 non-null    float64\n",
            " 18  attack             640 non-null    int64  \n",
            " 19  base_egg_steps     640 non-null    int64  \n",
            " 20  base_happiness     640 non-null    int64  \n",
            " 21  base_total         640 non-null    int64  \n",
            " 22  capture_rate       640 non-null    int64  \n",
            " 23  defense            640 non-null    int64  \n",
            " 24  experience_growth  640 non-null    int64  \n",
            " 25  height_m           640 non-null    float64\n",
            " 26  hp                 640 non-null    int64  \n",
            " 27  percentage_male    640 non-null    float64\n",
            " 28  sp_attack          640 non-null    int64  \n",
            " 29  sp_defense         640 non-null    int64  \n",
            " 30  speed              640 non-null    int64  \n",
            " 31  weight_kg          640 non-null    float64\n",
            " 32  generation         640 non-null    int64  \n",
            " 33  bug                640 non-null    float64\n",
            " 34  dark               640 non-null    float64\n",
            " 35  dragon             640 non-null    float64\n",
            " 36  electric           640 non-null    float64\n",
            " 37  fairy              640 non-null    float64\n",
            " 38  fighting           640 non-null    float64\n",
            " 39  fire               640 non-null    float64\n",
            " 40  ghost              640 non-null    float64\n",
            " 41  grass              640 non-null    float64\n",
            " 42  ground             640 non-null    float64\n",
            " 43  ice                640 non-null    float64\n",
            " 44  normal             640 non-null    float64\n",
            " 45  poison             640 non-null    float64\n",
            " 46  psychic            640 non-null    float64\n",
            " 47  rock               640 non-null    float64\n",
            " 48  steel              640 non-null    float64\n",
            " 49  water              640 non-null    float64\n",
            "dtypes: float64(38), int64(12)\n",
            "memory usage: 255.0 KB\n"
          ]
        }
      ],
      "source": [
        "X_train = one_hot_encoder(X_train, encoder)\n",
        "X_test = one_hot_encoder(X_test, encoder)\n",
        "X_train.info()\n"
      ],
      "metadata": {
        "id": "AMqv9H5C2der",
        "colab": {
          "base_uri": "https://localhost:8080/"
        },
        "outputId": "55bf4113-e90b-4a74-bbba-4dbf69d147f1"
      }
    },
    {
      "cell_type": "markdown",
      "source": [
        "#### Scale the data"
      ],
      "metadata": {
        "collapsed": false,
        "id": "RsJirLLv2des"
      }
    },
    {
      "cell_type": "code",
      "execution_count": null,
      "outputs": [
        {
          "output_type": "execute_result",
          "data": {
            "text/plain": [
              "array([[ 0.01643366, -0.14607176,  0.11318907, ..., -0.24770924,\n",
              "        -0.18418927,  2.45620989],\n",
              "       [ 0.01643366,  2.04073351,  0.11318907, ..., -0.24770924,\n",
              "        -0.18418927, -0.40713133],\n",
              "       [ 0.01643366, -0.14607176,  0.11318907, ..., -0.24770924,\n",
              "        -0.18418927, -0.40713133],\n",
              "       ...,\n",
              "       [ 0.01643366, -0.14607176,  0.11318907, ..., -0.24770924,\n",
              "        -0.18418927, -0.40713133],\n",
              "       [ 0.01643366, -0.14607176,  0.11318907, ..., -0.24770924,\n",
              "        -0.18418927, -0.40713133],\n",
              "       [ 0.01643366, -0.14607176,  0.11318907, ..., -0.24770924,\n",
              "        -0.18418927, -0.40713133]])"
            ]
          },
          "metadata": {},
          "execution_count": 26
        }
      ],
      "source": [
        "from sklearn.preprocessing import StandardScaler, RobustScaler, MinMaxScaler\n",
        "scaler = StandardScaler()\n",
        "scaler.fit(X_train)\n",
        "x_train = scaler.transform(X_train)\n",
        "x_test = scaler.transform(X_test)\n",
        "\n",
        "x_train"
      ],
      "metadata": {
        "id": "LtpjKRzk2des",
        "colab": {
          "base_uri": "https://localhost:8080/"
        },
        "outputId": "08b16057-e971-4282-a252-534c56025b87"
      }
    },
    {
      "cell_type": "markdown",
      "source": [
        "#### Confusion Matrix"
      ],
      "metadata": {
        "collapsed": false,
        "id": "AwKTm5Rc2des"
      }
    },
    {
      "cell_type": "markdown",
      "source": [
        "Are there highly co-related features in the dataset? Is it a problem?"
      ],
      "metadata": {
        "collapsed": false,
        "id": "boJULoS12det"
      }
    },
    {
      "cell_type": "code",
      "execution_count": null,
      "outputs": [
        {
          "output_type": "display_data",
          "data": {
            "text/plain": [
              "<Figure size 2160x2160 with 0 Axes>"
            ]
          },
          "metadata": {}
        },
        {
          "output_type": "display_data",
          "data": {
            "text/plain": [
              "<Figure size 288x288 with 1 Axes>"
            ],
            "image/png": "[encoded data removed]"
          },
          "metadata": {
            "needs_background": "light"
          }
        }
      ],
      "source": [
        "import seaborn as sns\n",
        "import matplotlib.pyplot as plt\n",
        "plt.figure(figsize=(30, 30))\n",
        "plt.matshow(X.corr())\n",
        "plt.show()\n"
      ],
      "metadata": {
        "id": "buhleQ5J2det",
        "colab": {
          "base_uri": "https://localhost:8080/",
          "height": 292
        },
        "outputId": "f0f2a814-40be-436c-c425-6093ebfc4a4f"
      }
    },
    {
      "cell_type": "markdown",
      "source": [
        "some features are highly correleted (for example base-total and attack). correlated data means we should work harder to make the handling of data technically simpler and more effective"
      ],
      "metadata": {
        "id": "xOj7CLIwV4PF"
      }
    },
    {
      "cell_type": "markdown",
      "source": [
        "### Model fitting and Comparison"
      ],
      "metadata": {
        "collapsed": false,
        "id": "fM00XYzy2det"
      }
    },
    {
      "cell_type": "markdown",
      "source": [
        "#### Tuning LR model"
      ],
      "metadata": {
        "collapsed": false,
        "id": "QJ-Od4uQ2deu"
      }
    },
    {
      "cell_type": "code",
      "execution_count": null,
      "outputs": [],
      "source": [
        "from sklearn import metrics\n",
        "# caclulate and print metrics\n",
        "def print_clf_metrics( y_actual, y_pred ):\n",
        "  print(\"accuracy: \", metrics.accuracy_score(y_actual, y_pred))\n",
        "  print(\"precision: \", metrics.precision_score(y_actual, y_pred))\n",
        "  print(\"recall: \", metrics.recall_score(y_actual, y_pred))\n",
        "  print(\"f1-score: \", metrics.f1_score(y_actual, y_pred))\n"
      ],
      "metadata": {
        "id": "tzT9PfL72deu"
      }
    },
    {
      "cell_type": "code",
      "execution_count": null,
      "outputs": [],
      "source": [
        "parameters = { \n",
        "    'penalty': ['l1', 'l2'], 'C': np.logspace(-3, 3, 7), 'solver': ['newton-cg', 'lbfgs', 'liblinear']\n",
        "}"
      ],
      "metadata": {
        "id": "smxZV8zB2deu"
      }
    },
    {
      "cell_type": "markdown",
      "source": [
        "max_iter=1000 in LR constructor"
      ],
      "metadata": {
        "collapsed": false,
        "id": "noXkIjHs2dev"
      }
    },
    {
      "cell_type": "code",
      "execution_count": null,
      "outputs": [],
      "source": [
        "from sklearn.linear_model import LogisticRegression\n",
        "from sklearn import metrics\n",
        "from sklearn.model_selection import GridSearchCV\n",
        "lr = LogisticRegression(max_iter = 1000)\n",
        "gs_clf = GridSearchCV(estimator = lr, param_grid = parameters)"
      ],
      "metadata": {
        "id": "q6FRlShJ2dev"
      }
    },
    {
      "cell_type": "code",
      "execution_count": null,
      "outputs": [
        {
          "output_type": "stream",
          "name": "stderr",
          "text": [
            "/usr/local/lib/python3.8/dist-packages/sklearn/model_selection/_validation.py:372: FitFailedWarning: \n",
            "70 fits failed out of a total of 210.\n",
            "The score on these train-test partitions for these parameters will be set to nan.\n",
            "If these failures are not expected, you can try to debug them by setting error_score='raise'.\n",
            "\n",
            "Below are more details about the failures:\n",
            "--------------------------------------------------------------------------------\n",
            "35 fits failed with the following error:\n",
            "Traceback (most recent call last):\n",
            "  File \"/usr/local/lib/python3.8/dist-packages/sklearn/model_selection/_validation.py\", line 680, in _fit_and_score\n",
            "    estimator.fit(X_train, y_train, **fit_params)\n",
            "  File \"/usr/local/lib/python3.8/dist-packages/sklearn/linear_model/_logistic.py\", line 1461, in fit\n",
            "    solver = _check_solver(self.solver, self.penalty, self.dual)\n",
            "  File \"/usr/local/lib/python3.8/dist-packages/sklearn/linear_model/_logistic.py\", line 447, in _check_solver\n",
            "    raise ValueError(\n",
            "ValueError: Solver newton-cg supports only 'l2' or 'none' penalties, got l1 penalty.\n",
            "\n",
            "--------------------------------------------------------------------------------\n",
            "35 fits failed with the following error:\n",
            "Traceback (most recent call last):\n",
            "  File \"/usr/local/lib/python3.8/dist-packages/sklearn/model_selection/_validation.py\", line 680, in _fit_and_score\n",
            "    estimator.fit(X_train, y_train, **fit_params)\n",
            "  File \"/usr/local/lib/python3.8/dist-packages/sklearn/linear_model/_logistic.py\", line 1461, in fit\n",
            "    solver = _check_solver(self.solver, self.penalty, self.dual)\n",
            "  File \"/usr/local/lib/python3.8/dist-packages/sklearn/linear_model/_logistic.py\", line 447, in _check_solver\n",
            "    raise ValueError(\n",
            "ValueError: Solver lbfgs supports only 'l2' or 'none' penalties, got l1 penalty.\n",
            "\n",
            "  warnings.warn(some_fits_failed_message, FitFailedWarning)\n",
            "/usr/local/lib/python3.8/dist-packages/sklearn/model_selection/_search.py:969: UserWarning: One or more of the test scores are non-finite: [      nan       nan 0.9125    0.9125    0.9125    0.9140625       nan\n",
            "       nan 0.9125    0.95625   0.95625   0.984375        nan       nan\n",
            " 0.9859375 0.9765625 0.9765625 0.984375        nan       nan 0.9859375\n",
            " 0.9875    0.9875    0.984375        nan       nan 0.9859375 0.9875\n",
            " 0.9875    0.9875          nan       nan 0.984375  0.9859375 0.9859375\n",
            " 0.9875          nan       nan 0.9875    0.9859375 0.9859375 0.9859375]\n",
            "  warnings.warn(\n"
          ]
        },
        {
          "output_type": "execute_result",
          "data": {
            "text/plain": [
              "GridSearchCV(estimator=LogisticRegression(max_iter=1000),\n",
              "             param_grid={'C': array([1.e-03, 1.e-02, 1.e-01, 1.e+00, 1.e+01, 1.e+02, 1.e+03]),\n",
              "                         'penalty': ['l1', 'l2'],\n",
              "                         'solver': ['newton-cg', 'lbfgs', 'liblinear']})"
            ]
          },
          "metadata": {},
          "execution_count": 31
        }
      ],
      "source": [
        "gs_clf.fit(x_train, y_train)\n"
      ],
      "metadata": {
        "id": "0qXgc4iN2dev",
        "colab": {
          "base_uri": "https://localhost:8080/"
        },
        "outputId": "31266287-8f37-469c-b5f4-0853d70eb7ba"
      }
    },
    {
      "cell_type": "code",
      "execution_count": null,
      "outputs": [
        {
          "output_type": "stream",
          "name": "stdout",
          "text": [
            "Tuned Hyperparameters : {'C': 1.0, 'penalty': 'l2', 'solver': 'newton-cg'}\n",
            "Accuracy : 0.9875\n"
          ]
        }
      ],
      "source": [
        "print(\"Tuned Hyperparameters :\", gs_clf.best_params_)\n",
        "print(\"Accuracy :\", gs_clf.best_score_)"
      ],
      "metadata": {
        "id": "Fa2729pF2dew",
        "colab": {
          "base_uri": "https://localhost:8080/"
        },
        "outputId": "b5a48927-65c2-4143-ac8d-ae807f3c243b"
      }
    },
    {
      "cell_type": "markdown",
      "source": [
        "#### Construct a LR with the best params and Evaluate the LR with the best params"
      ],
      "metadata": {
        "collapsed": false,
        "id": "J3l8MlRx2dew"
      }
    },
    {
      "cell_type": "code",
      "execution_count": null,
      "outputs": [],
      "source": [
        "lr_clf = gs_clf.best_estimator_"
      ],
      "metadata": {
        "id": "ixZqcbml2dew"
      }
    },
    {
      "cell_type": "code",
      "execution_count": null,
      "outputs": [],
      "source": [
        "lr_clf.fit(x_train, y_train)\n",
        "y_pred = lr_clf.predict(x_test)"
      ],
      "metadata": {
        "id": "5AL_EzUB2dex"
      }
    },
    {
      "cell_type": "code",
      "execution_count": null,
      "outputs": [
        {
          "output_type": "stream",
          "name": "stdout",
          "text": [
            "accuracy:  0.9937888198757764\n",
            "precision:  0.9333333333333333\n",
            "recall:  1.0\n",
            "f1-score:  0.9655172413793104\n"
          ]
        }
      ],
      "source": [
        "print_clf_metrics(y_test, y_pred)"
      ],
      "metadata": {
        "id": "CTMdTrME2dex",
        "colab": {
          "base_uri": "https://localhost:8080/"
        },
        "outputId": "ea85b2c7-0f24-45a0-ee74-22006bfe9ce6"
      }
    },
    {
      "cell_type": "markdown",
      "source": [
        "#### Print the top 5 most influencing features and the top 5 ignored features"
      ],
      "metadata": {
        "collapsed": false,
        "id": "BPZ6F81U2dex"
      }
    },
    {
      "cell_type": "code",
      "execution_count": null,
      "outputs": [
        {
          "output_type": "stream",
          "name": "stdout",
          "text": [
            "5 most influencing features:  [(0.7098763035115829, 'speed'), (1.1378376470052152, 'experience_growth'), (1.176247958988524, 'capture_rate'), (1.3544916985194602, 'normal'), (2.1396743447033457, 'base_egg_steps')]\n",
            "5 ignored features:  [(0.009159633219979011, 'against_flying'), (0.012007818091801882, 'dragon'), (0.02553559045644688, 'against_grass'), (0.02747127502994823, 'against_normal'), (0.040515298988426346, 'against_psychic')]\n"
          ]
        }
      ],
      "source": [
        "coefficient = sorted(list(zip(abs(lr_clf.coef_).tolist()[0], X_train.columns)))\n",
        "print(\"5 most influencing features: \", coefficient[-5:])\n",
        "print(\"5 ignored features: \", coefficient[:5])"
      ],
      "metadata": {
        "id": "MDmWa7r72de0",
        "colab": {
          "base_uri": "https://localhost:8080/"
        },
        "outputId": "300b746d-80c3-4799-a403-4dd47b00a244"
      }
    },
    {
      "cell_type": "markdown",
      "source": [
        "#### Tuning KNN model"
      ],
      "metadata": {
        "collapsed": false,
        "id": "F-QA5_rb2de0"
      }
    },
    {
      "cell_type": "code",
      "execution_count": null,
      "outputs": [
        {
          "output_type": "stream",
          "name": "stdout",
          "text": [
            "Tuned Hyperparameters : {'metric': 'cosine', 'n_neighbors': 4, 'weights': 'distance'}\n",
            "Accuracy : 0.9515625\n"
          ]
        }
      ],
      "source": [
        "from sklearn.neighbors import KNeighborsClassifier\n",
        "knn1 = KNeighborsClassifier()\n",
        "param_grid = {\n",
        "    'n_neighbors': list(range(1, 15)), 'weights': ['uniform', 'distance'], 'metric': ['euclidean', 'manhattan', 'chebyshev', 'cosine']\n",
        "}\n",
        "\n",
        "grid_search_clf = GridSearchCV(estimator = knn1, param_grid = param_grid)\n",
        "\n",
        "grid_search_clf.fit(x_train, y_train)\n",
        "\n",
        "print(\"Tuned Hyperparameters :\", grid_search_clf.best_params_)\n",
        "print(\"Accuracy :\", grid_search_clf.best_score_)"
      ],
      "metadata": {
        "id": "Pa36oIcW2de1",
        "colab": {
          "base_uri": "https://localhost:8080/"
        },
        "outputId": "777eaaa1-d305-4d50-a448-7d26e8a2d77e"
      }
    },
    {
      "cell_type": "markdown",
      "source": [
        "#### Construct a KNN model with the best params and Evaluate the KNN with the best params\n"
      ],
      "metadata": {
        "collapsed": false,
        "id": "0W57xTBB2de1"
      }
    },
    {
      "cell_type": "code",
      "execution_count": null,
      "outputs": [
        {
          "output_type": "stream",
          "name": "stdout",
          "text": [
            "accuracy:  0.9813664596273292\n",
            "precision:  1.0\n",
            "recall:  0.7857142857142857\n",
            "f1-score:  0.88\n"
          ]
        }
      ],
      "source": [
        "knn = grid_search_clf.best_estimator_\n",
        "knn.fit(x_train, y_train)\n",
        "y_predict = knn.predict(x_test)\n",
        "print_clf_metrics(y_test, y_predict)\n"
      ],
      "metadata": {
        "id": "9LjiV0wQ2de2",
        "colab": {
          "base_uri": "https://localhost:8080/"
        },
        "outputId": "192d24dc-2bb9-4422-e425-77cb1c5963b4"
      }
    },
    {
      "cell_type": "markdown",
      "source": [
        "#### Fitting GNB to the data and evaluating on the test dataset"
      ],
      "metadata": {
        "collapsed": false,
        "id": "Ko_Mo2Sd2de2"
      }
    },
    {
      "cell_type": "code",
      "execution_count": null,
      "outputs": [
        {
          "output_type": "stream",
          "name": "stdout",
          "text": [
            "accuracy:  0.9316770186335404\n",
            "precision:  0.56\n",
            "recall:  1.0\n",
            "f1-score:  0.717948717948718\n"
          ]
        }
      ],
      "source": [
        "from sklearn.naive_bayes import GaussianNB\n",
        "\n",
        "gauss_nb = GaussianNB()\n",
        "gauss_nb.fit(x_train, y_train)\n",
        "y_pred = gauss_nb.predict(x_test)\n",
        "\n",
        "print_clf_metrics(y_test, y_pred)"
      ],
      "metadata": {
        "id": "bOT1zwf52de2",
        "colab": {
          "base_uri": "https://localhost:8080/"
        },
        "outputId": "0eef39f8-2fd8-42b4-eee8-1e56d2d40615"
      }
    },
    {
      "cell_type": "markdown",
      "source": [
        "#### Which metric is most appropriate for this task and why?"
      ],
      "metadata": {
        "collapsed": false,
        "id": "HdEySGDM2de3"
      }
    },
    {
      "cell_type": "markdown",
      "source": [
        "since our dataset is imbalanced, the most appropriate metric is f1-score as this is a good all-around metric which balances precision and recall whilst also performing well on imbalanced datasets"
      ],
      "metadata": {
        "id": "BNLgmpeXDYLV"
      }
    },
    {
      "cell_type": "markdown",
      "source": [],
      "metadata": {
        "id": "5Ra3-zUHDHFN"
      }
    },
    {
      "cell_type": "markdown",
      "source": [
        "#### Compare the 3 classifiers in terms of accuracy, precision, recall and F1-score.\n",
        "What is the best model for this task? and based on what\n",
        "did you pick it?"
      ],
      "metadata": {
        "collapsed": false,
        "id": "ef12qpQO2de3"
      }
    },
    {
      "cell_type": "markdown",
      "source": [],
      "metadata": {
        "id": "N5i3Ljh2DJAk"
      }
    },
    {
      "cell_type": "markdown",
      "source": [
        "as the best metric for our task is f1-score, the best model will be a LR model, as it has the highest f1-score (0.993), as well as the highest accuracy and precision"
      ],
      "metadata": {
        "id": "BwnHStXQGW7M"
      }
    },
    {
      "cell_type": "markdown",
      "source": [
        "## Bonus Task"
      ],
      "metadata": {
        "collapsed": false,
        "id": "GKZ7spaj2de3"
      }
    },
    {
      "cell_type": "markdown",
      "source": [
        "#### Loading the Dataset"
      ],
      "metadata": {
        "collapsed": false,
        "id": "AkR0UlVp2de4"
      }
    },
    {
      "cell_type": "code",
      "execution_count": 2,
      "outputs": [
        {
          "output_type": "execute_result",
          "data": {
            "text/plain": [
              "          var1      var2        var3  target\n",
              "0    63.973548  2.726496  379.882305       2\n",
              "1    10.906092  5.529845  207.272945       1\n",
              "2    73.482382  2.739803  335.491727       1\n",
              "3    28.937856  3.666386  226.279807       0\n",
              "4    33.315477  5.540084  159.608987       0\n",
              "..         ...       ...         ...     ...\n",
              "265  87.227771  3.738061  320.135382       2\n",
              "266  -4.605994  3.688628  204.136303       1\n",
              "267  44.178216  5.085936  198.365089       0\n",
              "268   6.169277  3.328219  204.934675       0\n",
              "269  -5.396278  4.021390  197.347533       0\n",
              "\n",
              "[270 rows x 4 columns]"
            ],
            "text/html": [
              "\n",
              "  <div id=\"df-7a8dd1c2-45e2-47cd-8779-a7a983e64e6e\">\n",
              "    <div class=\"colab-df-container\">\n",
              "      <div>\n",
              "<style scoped>\n",
              "    .dataframe tbody tr th:only-of-type {\n",
              "        vertical-align: middle;\n",
              "    }\n",
              "\n",
              "    .dataframe tbody tr th {\n",
              "        vertical-align: top;\n",
              "    }\n",
              "\n",
              "    .dataframe thead th {\n",
              "        text-align: right;\n",
              "    }\n",
              "</style>\n",
              "<table border=\"1\" class=\"dataframe\">\n",
              "  <thead>\n",
              "    <tr style=\"text-align: right;\">\n",
              "      <th></th>\n",
              "      <th>var1</th>\n",
              "      <th>var2</th>\n",
              "      <th>var3</th>\n",
              "      <th>target</th>\n",
              "    </tr>\n",
              "  </thead>\n",
              "  <tbody>\n",
              "    <tr>\n",
              "      <th>0</th>\n",
              "      <td>63.973548</td>\n",
              "      <td>2.726496</td>\n",
              "      <td>379.882305</td>\n",
              "      <td>2</td>\n",
              "    </tr>\n",
              "    <tr>\n",
              "      <th>1</th>\n",
              "      <td>10.906092</td>\n",
              "      <td>5.529845</td>\n",
              "      <td>207.272945</td>\n",
              "      <td>1</td>\n",
              "    </tr>\n",
              "    <tr>\n",
              "      <th>2</th>\n",
              "      <td>73.482382</td>\n",
              "      <td>2.739803</td>\n",
              "      <td>335.491727</td>\n",
              "      <td>1</td>\n",
              "    </tr>\n",
              "    <tr>\n",
              "      <th>3</th>\n",
              "      <td>28.937856</td>\n",
              "      <td>3.666386</td>\n",
              "      <td>226.279807</td>\n",
              "      <td>0</td>\n",
              "    </tr>\n",
              "    <tr>\n",
              "      <th>4</th>\n",
              "      <td>33.315477</td>\n",
              "      <td>5.540084</td>\n",
              "      <td>159.608987</td>\n",
              "      <td>0</td>\n",
              "    </tr>\n",
              "    <tr>\n",
              "      <th>...</th>\n",
              "      <td>...</td>\n",
              "      <td>...</td>\n",
              "      <td>...</td>\n",
              "      <td>...</td>\n",
              "    </tr>\n",
              "    <tr>\n",
              "      <th>265</th>\n",
              "      <td>87.227771</td>\n",
              "      <td>3.738061</td>\n",
              "      <td>320.135382</td>\n",
              "      <td>2</td>\n",
              "    </tr>\n",
              "    <tr>\n",
              "      <th>266</th>\n",
              "      <td>-4.605994</td>\n",
              "      <td>3.688628</td>\n",
              "      <td>204.136303</td>\n",
              "      <td>1</td>\n",
              "    </tr>\n",
              "    <tr>\n",
              "      <th>267</th>\n",
              "      <td>44.178216</td>\n",
              "      <td>5.085936</td>\n",
              "      <td>198.365089</td>\n",
              "      <td>0</td>\n",
              "    </tr>\n",
              "    <tr>\n",
              "      <th>268</th>\n",
              "      <td>6.169277</td>\n",
              "      <td>3.328219</td>\n",
              "      <td>204.934675</td>\n",
              "      <td>0</td>\n",
              "    </tr>\n",
              "    <tr>\n",
              "      <th>269</th>\n",
              "      <td>-5.396278</td>\n",
              "      <td>4.021390</td>\n",
              "      <td>197.347533</td>\n",
              "      <td>0</td>\n",
              "    </tr>\n",
              "  </tbody>\n",
              "</table>\n",
              "<p>270 rows × 4 columns</p>\n",
              "</div>\n",
              "      <button class=\"colab-df-convert\" onclick=\"convertToInteractive('df-7a8dd1c2-45e2-47cd-8779-a7a983e64e6e')\"\n",
              "              title=\"Convert this dataframe to an interactive table.\"\n",
              "              style=\"display:none;\">\n",
              "        \n",
              "  <svg xmlns=\"http://www.w3.org/2000/svg\" height=\"24px\"viewBox=\"0 0 24 24\"\n",
              "       width=\"24px\">\n",
              "    <path d=\"M0 0h24v24H0V0z\" fill=\"none\"/>\n",
              "    <path d=\"M18.56 5.44l.94 2.06.94-2.06 2.06-.94-2.06-.94-.94-2.06-.94 2.06-2.06.94zm-11 1L8.5 8.5l.94-2.06 2.06-.94-2.06-.94L8.5 2.5l-.94 2.06-2.06.94zm10 10l.94 2.06.94-2.06 2.06-.94-2.06-.94-.94-2.06-.94 2.06-2.06.94z\"/><path d=\"M17.41 7.96l-1.37-1.37c-.4-.4-.92-.59-1.43-.59-.52 0-1.04.2-1.43.59L10.3 9.45l-7.72 7.72c-.78.78-.78 2.05 0 2.83L4 21.41c.39.39.9.59 1.41.59.51 0 1.02-.2 1.41-.59l7.78-7.78 2.81-2.81c.8-.78.8-2.07 0-2.86zM5.41 20L4 18.59l7.72-7.72 1.47 1.35L5.41 20z\"/>\n",
              "  </svg>\n",
              "      </button>\n",
              "      \n",
              "  <style>\n",
              "    .colab-df-container {\n",
              "      display:flex;\n",
              "      flex-wrap:wrap;\n",
              "      gap: 12px;\n",
              "    }\n",
              "\n",
              "    .colab-df-convert {\n",
              "      background-color: #E8F0FE;\n",
              "      border: none;\n",
              "      border-radius: 50%;\n",
              "      cursor: pointer;\n",
              "      display: none;\n",
              "      fill: #1967D2;\n",
              "      height: 32px;\n",
              "      padding: 0 0 0 0;\n",
              "      width: 32px;\n",
              "    }\n",
              "\n",
              "    .colab-df-convert:hover {\n",
              "      background-color: #E2EBFA;\n",
              "      box-shadow: 0px 1px 2px rgba(60, 64, 67, 0.3), 0px 1px 3px 1px rgba(60, 64, 67, 0.15);\n",
              "      fill: #174EA6;\n",
              "    }\n",
              "\n",
              "    [theme=dark] .colab-df-convert {\n",
              "      background-color: #3B4455;\n",
              "      fill: #D2E3FC;\n",
              "    }\n",
              "\n",
              "    [theme=dark] .colab-df-convert:hover {\n",
              "      background-color: #434B5C;\n",
              "      box-shadow: 0px 1px 3px 1px rgba(0, 0, 0, 0.15);\n",
              "      filter: drop-shadow(0px 1px 2px rgba(0, 0, 0, 0.3));\n",
              "      fill: #FFFFFF;\n",
              "    }\n",
              "  </style>\n",
              "\n",
              "      <script>\n",
              "        const buttonEl =\n",
              "          document.querySelector('#df-7a8dd1c2-45e2-47cd-8779-a7a983e64e6e button.colab-df-convert');\n",
              "        buttonEl.style.display =\n",
              "          google.colab.kernel.accessAllowed ? 'block' : 'none';\n",
              "\n",
              "        async function convertToInteractive(key) {\n",
              "          const element = document.querySelector('#df-7a8dd1c2-45e2-47cd-8779-a7a983e64e6e');\n",
              "          const dataTable =\n",
              "            await google.colab.kernel.invokeFunction('convertToInteractive',\n",
              "                                                     [key], {});\n",
              "          if (!dataTable) return;\n",
              "\n",
              "          const docLinkHtml = 'Like what you see? Visit the ' +\n",
              "            '<a target=\"_blank\" href=https://colab.research.google.com/notebooks/data_table.ipynb>data table notebook</a>'\n",
              "            + ' to learn more about interactive tables.';\n",
              "          element.innerHTML = '';\n",
              "          dataTable['output_type'] = 'display_data';\n",
              "          await google.colab.output.renderOutput(dataTable, element);\n",
              "          const docLink = document.createElement('div');\n",
              "          docLink.innerHTML = docLinkHtml;\n",
              "          element.appendChild(docLink);\n",
              "        }\n",
              "      </script>\n",
              "    </div>\n",
              "  </div>\n",
              "  "
            ]
          },
          "metadata": {},
          "execution_count": 2
        }
      ],
      "source": [
        "import pandas as pd\n",
        "train_data = pd.read_csv('bonus_train.csv')\n",
        "\n",
        "test_data = pd.read_csv('bonus_test.csv')\n",
        "\n",
        "train_data"
      ],
      "metadata": {
        "id": "XClLFZRX2de5",
        "colab": {
          "base_uri": "https://localhost:8080/",
          "height": 424
        },
        "outputId": "a91e0dc5-ec71-43a6-b2da-05c3fad47484"
      }
    },
    {
      "cell_type": "code",
      "execution_count": 3,
      "outputs": [
        {
          "output_type": "stream",
          "name": "stdout",
          "text": [
            "          var1      var2        var3\n",
            "0    63.973548  2.726496  379.882305\n",
            "1    10.906092  5.529845  207.272945\n",
            "2    73.482382  2.739803  335.491727\n",
            "3    28.937856  3.666386  226.279807\n",
            "4    33.315477  5.540084  159.608987\n",
            "..         ...       ...         ...\n",
            "265  87.227771  3.738061  320.135382\n",
            "266  -4.605994  3.688628  204.136303\n",
            "267  44.178216  5.085936  198.365089\n",
            "268   6.169277  3.328219  204.934675\n",
            "269  -5.396278  4.021390  197.347533\n",
            "\n",
            "[270 rows x 3 columns] 0      2\n",
            "1      1\n",
            "2      1\n",
            "3      0\n",
            "4      0\n",
            "      ..\n",
            "265    2\n",
            "266    1\n",
            "267    0\n",
            "268    0\n",
            "269    0\n",
            "Name: target, Length: 270, dtype: int64           var1      var2        var3\n",
            "0    26.052523  4.698298  239.765969\n",
            "1    62.205061  4.373559  207.581273\n",
            "2    11.390621  4.494386  244.578095\n",
            "3    35.320556  2.731171  322.284266\n",
            "4    53.508643  3.575985  247.902236\n",
            "5    15.608017  3.441529  171.143617\n",
            "6    34.033739  3.653252  216.465744\n",
            "7    -2.157290  5.066110  123.714108\n",
            "8    26.441097  3.839241  195.244416\n",
            "9   -11.806370  3.910325  133.601377\n",
            "10   22.572408  3.720946  149.434195\n",
            "11   21.220583  1.791753  345.790005\n",
            "12   28.128590  2.012278  177.367836\n",
            "13   57.771200  1.783163  346.920190\n",
            "14   64.126549  2.353766  361.778254\n",
            "15    4.726833  5.420564   74.053936\n",
            "16   64.208016  1.649645  377.411045\n",
            "17  117.117520  1.355785  359.294607\n",
            "18   11.834524  3.855454  103.465973\n",
            "19   41.317894 -0.468269  315.130388\n",
            "20   48.326178  3.269560  284.547116\n",
            "21   53.471599  1.581110  286.577679\n",
            "22   50.940375  3.580717  281.037886\n",
            "23   27.549316  5.661148  216.077366\n",
            "24    7.510555  6.395392  121.881440\n",
            "25   50.057164  3.530638  431.036375\n",
            "26   28.802398  5.146860  376.703489\n",
            "27   48.807765  2.063057  368.334346\n",
            "28   68.005874  3.000144  329.085916\n",
            "29   33.127667  2.608791  165.050506 0     1\n",
            "1     1\n",
            "2     0\n",
            "3     2\n",
            "4     1\n",
            "5     0\n",
            "6     1\n",
            "7     0\n",
            "8     1\n",
            "9     0\n",
            "10    0\n",
            "11    2\n",
            "12    0\n",
            "13    2\n",
            "14    2\n",
            "15    0\n",
            "16    2\n",
            "17    2\n",
            "18    0\n",
            "19    2\n",
            "20    1\n",
            "21    2\n",
            "22    1\n",
            "23    1\n",
            "24    0\n",
            "25    2\n",
            "26    1\n",
            "27    2\n",
            "28    2\n",
            "29    1\n",
            "Name: target, dtype: int64\n"
          ]
        }
      ],
      "source": [
        "y_train = train_data.loc[:, 'target']\n",
        "X_train = train_data.drop(['target'], axis = 1)\n",
        "\n",
        "y_test = test_data.loc[:, 'target']\n",
        "X_test = test_data.drop(['target'], axis = 1)\n",
        "\n",
        "print(X_train, y_train, X_test, y_test)"
      ],
      "metadata": {
        "id": "S-j98amk2de6",
        "colab": {
          "base_uri": "https://localhost:8080/"
        },
        "outputId": "914dff31-11f8-48ad-9f85-350ae8347763"
      }
    },
    {
      "cell_type": "markdown",
      "source": [
        "####  Plot the data using the pairplot in sns"
      ],
      "metadata": {
        "collapsed": false,
        "id": "Z91pVd4P2de8"
      }
    },
    {
      "cell_type": "code",
      "execution_count": 4,
      "outputs": [
        {
          "output_type": "execute_result",
          "data": {
            "text/plain": [
              "<seaborn.axisgrid.PairGrid at 0x7f31b8a7b250>"
            ]
          },
          "metadata": {},
          "execution_count": 4
        },
        {
          "output_type": "display_data",
          "data": {
            "text/plain": [
              "<Figure size 582.375x540 with 12 Axes>"
            ],
            "image/png": "[encoded data removed]"
          },
          "metadata": {
            "needs_background": "light"
          }
        }
      ],
      "source": [
        "import seaborn as sns\n",
        "import matplotlib.pyplot as plt\n",
        "\n",
        "sns.pairplot(train_data, hue=\"target\", kind=\"scatter\")\n"
      ],
      "metadata": {
        "id": "d5O6HrUO2de9",
        "colab": {
          "base_uri": "https://localhost:8080/",
          "height": 567
        },
        "outputId": "9ffdc7d5-1875-49da-8a94-3aea167d1a63"
      }
    },
    {
      "cell_type": "markdown",
      "source": [
        "#### Fit LR to the training dataset using OVR and evaluate on the test dataset"
      ],
      "metadata": {
        "collapsed": false,
        "id": "tHApVMLN2de9"
      }
    },
    {
      "cell_type": "code",
      "execution_count": 5,
      "outputs": [],
      "source": [
        "from sklearn.linear_model import LogisticRegression\n",
        "multi_lr = LogisticRegression(multi_class = 'ovr')\n",
        "multi_lr.fit(X_train, y_train)\n",
        "y_pred = multi_lr.predict(X_test)\n"
      ],
      "metadata": {
        "id": "y0rwNSp32de9"
      }
    },
    {
      "cell_type": "code",
      "execution_count": 6,
      "outputs": [
        {
          "output_type": "stream",
          "name": "stdout",
          "text": [
            "accuracy:  0.8\n"
          ]
        }
      ],
      "source": [
        "from sklearn import metrics\n",
        "print(\"accuracy: \", metrics.accuracy_score(y_test, y_pred))"
      ],
      "metadata": {
        "id": "GdBt163q2de-",
        "colab": {
          "base_uri": "https://localhost:8080/"
        },
        "outputId": "5b30ff58-dcd4-42e8-91d4-c740340d60c3"
      }
    },
    {
      "cell_type": "markdown",
      "source": [
        "#### Fit LR to the training dataset using multinomial and evaluate on the test dataset\n"
      ],
      "metadata": {
        "collapsed": false,
        "id": "gGz_-ZQb2de-"
      }
    },
    {
      "cell_type": "code",
      "execution_count": 7,
      "outputs": [],
      "source": [
        "multi_lr = LogisticRegression(multi_class = 'multinomial', max_iter = 1000)\n",
        "multi_lr.fit(X_train, y_train)\n",
        "y_pred = multi_lr.predict(X_test)"
      ],
      "metadata": {
        "id": "3QZrTdVD2de_"
      }
    },
    {
      "cell_type": "code",
      "execution_count": 8,
      "outputs": [
        {
          "output_type": "stream",
          "name": "stdout",
          "text": [
            "accuracy:  0.9\n"
          ]
        }
      ],
      "source": [
        "print(\"accuracy: \", metrics.accuracy_score(y_test, y_pred))"
      ],
      "metadata": {
        "id": "Xa6CHcei2de_",
        "colab": {
          "base_uri": "https://localhost:8080/"
        },
        "outputId": "0c287195-11b3-4130-dfb1-d36b4b9951fa"
      }
    },
    {
      "cell_type": "markdown",
      "source": [
        "#### Using gridsearch to tune the C value and multi class"
      ],
      "metadata": {
        "collapsed": false,
        "id": "uuM6dIFl2de_"
      }
    },
    {
      "cell_type": "code",
      "execution_count": 9,
      "outputs": [],
      "source": [
        "import numpy as np\n",
        "params = {\n",
        "    'C': np.logspace(-10, 10, 7), 'multi_class': ['multinomial', 'ovr']\n",
        "}"
      ],
      "metadata": {
        "id": "x5uNBFhH2dfA"
      }
    },
    {
      "cell_type": "code",
      "execution_count": 10,
      "outputs": [
        {
          "output_type": "execute_result",
          "data": {
            "text/plain": [
              "GridSearchCV(estimator=LogisticRegression(max_iter=1000),\n",
              "             param_grid={'C': array([1.00000000e-10, 2.15443469e-07, 4.64158883e-04, 1.00000000e+00,\n",
              "       2.15443469e+03, 4.64158883e+06, 1.00000000e+10]),\n",
              "                         'multi_class': ['multinomial', 'ovr']})"
            ]
          },
          "metadata": {},
          "execution_count": 10
        }
      ],
      "source": [
        "from sklearn.model_selection import GridSearchCV\n",
        "grid_search_clf = GridSearchCV(estimator = LogisticRegression(max_iter = 1000), param_grid = params)\n",
        "\n",
        "grid_search_clf.fit(X_train, y_train)"
      ],
      "metadata": {
        "id": "3EyFel1B2dfA",
        "colab": {
          "base_uri": "https://localhost:8080/"
        },
        "outputId": "bedc2322-f43f-49bd-867d-886bc71a22a1"
      }
    },
    {
      "cell_type": "code",
      "execution_count": 11,
      "outputs": [
        {
          "output_type": "stream",
          "name": "stdout",
          "text": [
            "Tuned Hyperparameters : {'C': 2154.4346900318865, 'multi_class': 'multinomial'}\n",
            "Accuracy : 0.825925925925926\n"
          ]
        }
      ],
      "source": [
        "from pandas._libs.tslibs.period import get_period_field_arr\n",
        "print(\"Tuned Hyperparameters :\", grid_search_clf.best_params_)\n",
        "print(\"Accuracy :\", grid_search_clf.best_score_)"
      ],
      "metadata": {
        "id": "gdcNQLGY2dfA",
        "colab": {
          "base_uri": "https://localhost:8080/"
        },
        "outputId": "bc056590-0509-4218-e5bd-8c3649ef9638"
      }
    },
    {
      "cell_type": "code",
      "execution_count": 12,
      "outputs": [
        {
          "output_type": "execute_result",
          "data": {
            "text/plain": [
              "LogisticRegression(C=2154.4346900318865, max_iter=1000,\n",
              "                   multi_class='multinomial')"
            ]
          },
          "metadata": {},
          "execution_count": 12
        }
      ],
      "source": [
        "grid_search_clf.best_estimator_"
      ],
      "metadata": {
        "id": "55mlyS5k2dfB",
        "colab": {
          "base_uri": "https://localhost:8080/"
        },
        "outputId": "d37a1c33-0b48-4c5a-c7d7-3136867474d3"
      }
    },
    {
      "cell_type": "markdown",
      "source": [
        "#### Comment on why one multi_class technique was better than the other"
      ],
      "metadata": {
        "collapsed": false,
        "id": "W7ZAGi822dfB"
      }
    },
    {
      "cell_type": "markdown",
      "source": [
        "multinomial technique is better than ovr since it has a higher accuracy score. it is used when the dependent variable has more than two levels and they cannot be ordered. unlike one-vs-rest that splits it into one binary dataset for each class, the multinomial approach splits the dataset into one dataset for each class versus every other class"
      ],
      "metadata": {
        "id": "81ZlDqpJKyAR"
      }
    },
    {
      "cell_type": "markdown",
      "source": [
        "#### Create LR with the best params"
      ],
      "metadata": {
        "collapsed": false,
        "id": "3v7nLrXY2dfB"
      }
    },
    {
      "cell_type": "code",
      "execution_count": 13,
      "outputs": [],
      "source": [
        "multi_lr = grid_search_clf.best_estimator_"
      ],
      "metadata": {
        "id": "NCS1TZVK2dfC"
      }
    },
    {
      "cell_type": "markdown",
      "source": [
        "#### Visualize the decision boundaries"
      ],
      "metadata": {
        "collapsed": false,
        "id": "QAix90Lb2dfC"
      }
    },
    {
      "cell_type": "code",
      "source": [
        "%pip install -q -U mlxtend"
      ],
      "metadata": {
        "colab": {
          "base_uri": "https://localhost:8080/"
        },
        "id": "IxpzPP5fLLxX",
        "outputId": "a50e965e-b786-498b-86b4-350859001f94"
      },
      "execution_count": 14,
      "outputs": [
        {
          "output_type": "stream",
          "name": "stdout",
          "text": [
            "\u001b[?25l     \u001b[90m━━━━━━━━━━━━━━━━━━━━━━━━━━━━━━━━━━━━━━━━\u001b[0m \u001b[32m0.0/1.3 MB\u001b[0m \u001b[31m?\u001b[0m eta \u001b[36m-:--:--\u001b[0m\r\u001b[2K     \u001b[91m━━━━━━\u001b[0m\u001b[91m╸\u001b[0m\u001b[90m━━━━━━━━━━━━━━━━━━━━━━━━━━━━━━━━━\u001b[0m \u001b[32m0.2/1.3 MB\u001b[0m \u001b[31m7.1 MB/s\u001b[0m eta \u001b[36m0:00:01\u001b[0m\r\u001b[2K     \u001b[91m━━━━━━━━━━━━━━━━━━━━━━━━━━━━━━━━━━━━━━━\u001b[0m\u001b[91m╸\u001b[0m \u001b[32m1.3/1.3 MB\u001b[0m \u001b[31m19.8 MB/s\u001b[0m eta \u001b[36m0:00:01\u001b[0m\r\u001b[2K     \u001b[90m━━━━━━━━━━━━━━━━━━━━━━━━━━━━━━━━━━━━━━━━\u001b[0m \u001b[32m1.3/1.3 MB\u001b[0m \u001b[31m15.6 MB/s\u001b[0m eta \u001b[36m0:00:00\u001b[0m\n",
            "\u001b[?25h"
          ]
        }
      ]
    },
    {
      "cell_type": "code",
      "execution_count": 16,
      "outputs": [
        {
          "output_type": "stream",
          "name": "stderr",
          "text": [
            "/usr/local/lib/python3.8/dist-packages/sklearn/base.py:450: UserWarning: X does not have valid feature names, but LogisticRegression was fitted with feature names\n",
            "  warnings.warn(\n"
          ]
        },
        {
          "output_type": "display_data",
          "data": {
            "text/plain": [
              "<Figure size 432x288 with 1 Axes>"
            ],
            "image/png": "[encoded data removed]"
          },
          "metadata": {
            "needs_background": "light"
          }
        }
      ],
      "source": [
        "from mlxtend.plotting import plot_decision_regions\n",
        "multi_lr.fit(X_train[['var1', 'var2']], y_train)\n",
        "plot_decision_regions(X=np.array(X_train[['var1', 'var2']]), y=np.array(y_train), clf = multi_lr)\n",
        "\n",
        "plt.xlabel('X_train')\n",
        "plt.ylabel('y_train')\n",
        "plt.title('Logistic Regression decision boundary')\n",
        "plt.show()"
      ],
      "metadata": {
        "id": "rkmVtJNy2dfC",
        "colab": {
          "base_uri": "https://localhost:8080/",
          "height": 351
        },
        "outputId": "b964f26a-2d5d-45f0-91a2-04d20a2a509c"
      }
    },
    {
      "cell_type": "markdown",
      "source": [
        "#### Comment on the decision boundary, do you think this is a good model or not? and based on what?"
      ],
      "metadata": {
        "collapsed": false,
        "id": "4E2lrCqD2dfD"
      }
    },
    {
      "cell_type": "markdown",
      "source": [
        "i think that this model is not really good since we can observe instances of different classes on each boundary (and we can see instances of all classes on the orange part of decision boundary)"
      ],
      "metadata": {
        "id": "EIvGp_LLYbzj"
      }
    }
  ],
  "metadata": {
    "kernelspec": {
      "display_name": "Python 3",
      "language": "python",
      "name": "python3"
    },
    "language_info": {
      "codemirror_mode": {
        "name": "ipython",
        "version": 2
      },
      "file_extension": ".py",
      "mimetype": "text/x-python",
      "name": "python",
      "nbconvert_exporter": "python",
      "pygments_lexer": "ipython2",
      "version": "2.7.6"
    },
    "colab": {
      "provenance": [],
      "collapsed_sections": [
        "qzt-TwQ82deX",
        "AkR0UlVp2de4",
        "Z91pVd4P2de8",
        "tHApVMLN2de9",
        "gGz_-ZQb2de-",
        "uuM6dIFl2de_"
      ]
    }
  },
  "nbformat": 4,
  "nbformat_minor": 0
}